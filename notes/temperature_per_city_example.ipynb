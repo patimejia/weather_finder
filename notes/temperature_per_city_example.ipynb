{
 "cells": [
  {
   "cell_type": "code",
   "execution_count": 1,
   "metadata": {},
   "outputs": [],
   "source": [
    "# # write test to: \n",
    "# # load and diplay data from python_data_analytics/temperature_per_city/temperature_per_city_example.ipynb\n",
    "\n",
    "\n",
    "# def load_data():\n",
    "#     # load data from python_data_analytics/temperature_per_city/temperature_per_city_example.ipynb\n",
    "#     # return data\n",
    "#     pass\n",
    "\n",
    "# def display_data(data):\n",
    "#     # display data from python_data_analytics/temperature_per_city/temperature_per_city_example.ipynb\n",
    "#     pass\n",
    "\n",
    "# def test_temperature_per_city_example():\n",
    "#     data = load_data()\n",
    "#     display_data(data)\n",
    "\n",
    "# if __name__ == \"__main__\":  # pragma: no cover. this line means that this code will not be tested because it is not part of the function. For example, if you want to run the code only when you run the file directly, and not when you import it from another module, you can write such a condition\n",
    "#     test_temperature_per_city_example()\n",
    "\n",
    "\n",
    "\n"
   ]
  },
  {
   "cell_type": "code",
   "execution_count": 7,
   "metadata": {},
   "outputs": [
    {
     "name": "stdout",
     "output_type": "stream",
     "text": [
      "New York\n",
      "London\n",
      "Paris\n",
      "Zurich\n",
      "Cairo\n",
      "Buenos Aires\n",
      "Moscow\n",
      "Nairobi/Users/ops/opt/anaconda3/envs/sklearn-env/bin/python: No module named pytest\n"
     ]
    }
   ],
   "source": [
    "# show portion content of  the file\n",
    "!head -n 10 datasets/cities.csv\n",
    "\n",
    "# show the content of the file\n",
    "# !cat datasets/cities.csv\n",
    "\n",
    "# run the test but load imports to run pytest\n",
    "!python -m pytest -v datasets/cities.csv\n",
    "\n"
   ]
  },
  {
   "cell_type": "code",
   "execution_count": 8,
   "metadata": {},
   "outputs": [
    {
     "name": "stdout",
     "output_type": "stream",
     "text": [
      "Collecting pytest\n",
      "  Downloading pytest-7.2.2-py3-none-any.whl (317 kB)\n",
      "\u001b[2K     \u001b[90m━━━━━━━━━━━━━━━━━━━━━━━━━━━━━━━━━━━━━━━\u001b[0m \u001b[32m317.2/317.2 kB\u001b[0m \u001b[31m2.6 MB/s\u001b[0m eta \u001b[36m0:00:00\u001b[0ma \u001b[36m0:00:01\u001b[0m\n",
      "\u001b[?25hCollecting tomli>=1.0.0\n",
      "  Using cached tomli-2.0.1-py3-none-any.whl (12 kB)\n",
      "Collecting iniconfig\n",
      "  Downloading iniconfig-2.0.0-py3-none-any.whl (5.9 kB)\n",
      "Requirement already satisfied: packaging in /Users/ops/opt/anaconda3/envs/sklearn-env/lib/python3.10/site-packages (from pytest) (21.3)\n",
      "Collecting pluggy<2.0,>=0.12\n",
      "  Downloading pluggy-1.0.0-py2.py3-none-any.whl (13 kB)\n",
      "Requirement already satisfied: attrs>=19.2.0 in /Users/ops/opt/anaconda3/envs/sklearn-env/lib/python3.10/site-packages (from pytest) (22.1.0)\n",
      "Collecting exceptiongroup>=1.0.0rc8\n",
      "  Downloading exceptiongroup-1.1.0-py3-none-any.whl (14 kB)\n",
      "Requirement already satisfied: pyparsing!=3.0.5,>=2.0.2 in /Users/ops/opt/anaconda3/envs/sklearn-env/lib/python3.10/site-packages (from packaging->pytest) (3.0.9)\n",
      "Installing collected packages: tomli, pluggy, iniconfig, exceptiongroup, pytest\n",
      "Successfully installed exceptiongroup-1.1.0 iniconfig-2.0.0 pluggy-1.0.0 pytest-7.2.2 tomli-2.0.1\n"
     ]
    }
   ],
   "source": [
    "# install pytest\n",
    "!pip install pytest\n"
   ]
  },
  {
   "cell_type": "code",
   "execution_count": null,
   "metadata": {},
   "outputs": [],
   "source": []
  }
 ],
 "metadata": {
  "kernelspec": {
   "display_name": "sklearn-env",
   "language": "python",
   "name": "python3"
  },
  "language_info": {
   "codemirror_mode": {
    "name": "ipython",
    "version": 3
   },
   "file_extension": ".py",
   "mimetype": "text/x-python",
   "name": "python",
   "nbconvert_exporter": "python",
   "pygments_lexer": "ipython3",
   "version": "3.10.6"
  },
  "orig_nbformat": 4
 },
 "nbformat": 4,
 "nbformat_minor": 2
}
