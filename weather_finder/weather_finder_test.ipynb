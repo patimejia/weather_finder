{
 "cells": [
  {
   "cell_type": "code",
   "execution_count": 59,
   "metadata": {},
   "outputs": [
    {
     "name": "stdout",
     "output_type": "stream",
     "text": [
      "New York\n",
      "London\n",
      "Paris\n",
      "Zurich\n",
      "Cairo\n",
      "Buenos Aires\n",
      "Moscow\n",
      "Nairobi"
     ]
    }
   ],
   "source": [
    "# show portion content of  the file\n",
    "!head -n 10 cities.csv"
   ]
  },
  {
   "cell_type": "code",
   "execution_count": 60,
   "metadata": {},
   "outputs": [
    {
     "name": "stdout",
     "output_type": "stream",
     "text": [
      "Number of lines in the file: 7\n"
     ]
    }
   ],
   "source": [
    "\n",
    "# show and print notification of file content length with nice format\n",
    "!wc -l cities.csv | awk '{print \"Number of lines in the file: \" $1}'\n",
    "\n"
   ]
  },
  {
   "cell_type": "code",
   "execution_count": 72,
   "metadata": {},
   "outputs": [
    {
     "name": "stdout",
     "output_type": "stream",
     "text": [
      "Requirement already satisfied: requests in /Users/ops/opt/anaconda3/envs/sklearn-env/lib/python3.10/site-packages (2.28.2)\n",
      "Requirement already satisfied: idna<4,>=2.5 in /Users/ops/opt/anaconda3/envs/sklearn-env/lib/python3.10/site-packages (from requests) (3.4)\n",
      "Requirement already satisfied: urllib3<1.27,>=1.21.1 in /Users/ops/opt/anaconda3/envs/sklearn-env/lib/python3.10/site-packages (from requests) (1.26.14)\n",
      "Requirement already satisfied: charset-normalizer<4,>=2 in /Users/ops/opt/anaconda3/envs/sklearn-env/lib/python3.10/site-packages (from requests) (3.1.0)\n",
      "Requirement already satisfied: certifi>=2017.4.17 in /Users/ops/opt/anaconda3/envs/sklearn-env/lib/python3.10/site-packages (from requests) (2022.9.24)\n"
     ]
    }
   ],
   "source": [
    "!pip install requests"
   ]
  },
  {
   "cell_type": "code",
   "execution_count": 73,
   "metadata": {},
   "outputs": [
    {
     "name": "stdout",
     "output_type": "stream",
     "text": [
      "New York\n",
      "{'coord': {'lon': -74.006, 'lat': 40.7143}, 'weather': [{'id': 800, 'main': 'Clear', 'description': 'clear sky', 'icon': '01d'}], 'base': 'stations', 'main': {'temp': 48.25, 'feels_like': 42.42, 'temp_min': 45.12, 'temp_max': 51.51, 'pressure': 1020, 'humidity': 48}, 'visibility': 10000, 'wind': {'speed': 14.97, 'deg': 360, 'gust': 23.02}, 'clouds': {'all': 0}, 'dt': 1678382860, 'sys': {'type': 2, 'id': 2039034, 'country': 'US', 'sunrise': 1678360680, 'sunset': 1678402529}, 'timezone': -18000, 'id': 5128581, 'name': 'New York', 'cod': 200}\n",
      "48.25\n",
      "---------------\n",
      "London\n",
      "{'coord': {'lon': -0.1257, 'lat': 51.5085}, 'weather': [{'id': 803, 'main': 'Clouds', 'description': 'broken clouds', 'icon': '04d'}], 'base': 'stations', 'main': {'temp': 50.4, 'feels_like': 49.46, 'temp_min': 44.35, 'temp_max': 52.27, 'pressure': 986, 'humidity': 92}, 'visibility': 10000, 'wind': {'speed': 5.75, 'deg': 180, 'gust': 20.71}, 'clouds': {'all': 75}, 'dt': 1678382803, 'sys': {'type': 2, 'id': 2075535, 'country': 'GB', 'sunrise': 1678343352, 'sunset': 1678384400}, 'timezone': 0, 'id': 2643743, 'name': 'London', 'cod': 200}\n",
      "50.4\n",
      "---------------\n",
      "Paris\n",
      "{'coord': {'lon': 2.3488, 'lat': 48.8534}, 'weather': [{'id': 500, 'main': 'Rain', 'description': 'light rain', 'icon': '10d'}], 'base': 'stations', 'main': {'temp': 55.72, 'feels_like': 55.09, 'temp_min': 52.95, 'temp_max': 57.38, 'pressure': 995, 'humidity': 87}, 'visibility': 10000, 'wind': {'speed': 16.11, 'deg': 190}, 'rain': {'1h': 0.9}, 'clouds': {'all': 75}, 'dt': 1678382967, 'sys': {'type': 2, 'id': 2041230, 'country': 'FR', 'sunrise': 1678342651, 'sunset': 1678383914}, 'timezone': 3600, 'id': 2988507, 'name': 'Paris', 'cod': 200}\n",
      "55.72\n",
      "---------------\n",
      "Zurich\n",
      "{'coord': {'lon': 8.55, 'lat': 47.3667}, 'weather': [{'id': 803, 'main': 'Clouds', 'description': 'broken clouds', 'icon': '04n'}], 'base': 'stations', 'main': {'temp': 56.3, 'feels_like': 53.51, 'temp_min': 53.15, 'temp_max': 57.67, 'pressure': 1002, 'humidity': 40}, 'visibility': 10000, 'wind': {'speed': 5.99, 'deg': 228, 'gust': 7}, 'clouds': {'all': 75}, 'dt': 1678382922, 'sys': {'type': 2, 'id': 2073778, 'country': 'CH', 'sunrise': 1678341108, 'sunset': 1678382480}, 'timezone': 3600, 'id': 2657896, 'name': 'Zurich', 'cod': 200}\n",
      "56.3\n",
      "---------------\n",
      "Cairo\n",
      "{'coord': {'lon': 31.2497, 'lat': 30.0626}, 'weather': [{'id': 800, 'main': 'Clear', 'description': 'clear sky', 'icon': '01n'}], 'base': 'stations', 'main': {'temp': 74.16, 'feels_like': 72.45, 'temp_min': 74.16, 'temp_max': 74.16, 'pressure': 1016, 'humidity': 25}, 'visibility': 10000, 'wind': {'speed': 9.22, 'deg': 70}, 'clouds': {'all': 0}, 'dt': 1678382867, 'sys': {'type': 1, 'id': 2514, 'country': 'EG', 'sunrise': 1678335164, 'sunset': 1678377531}, 'timezone': 7200, 'id': 360630, 'name': 'Cairo', 'cod': 200}\n",
      "74.16\n",
      "---------------\n",
      "Buenos Aires\n",
      "{'coord': {'lon': -58.3772, 'lat': -34.6132}, 'weather': [{'id': 800, 'main': 'Clear', 'description': 'clear sky', 'icon': '01d'}], 'base': 'stations', 'main': {'temp': 86.7, 'feels_like': 89.26, 'temp_min': 83.93, 'temp_max': 91.29, 'pressure': 1013, 'humidity': 51}, 'visibility': 10000, 'wind': {'speed': 14.97, 'deg': 100}, 'clouds': {'all': 0}, 'dt': 1678382958, 'sys': {'type': 1, 'id': 8224, 'country': 'AR', 'sunrise': 1678355254, 'sunset': 1678400453}, 'timezone': -10800, 'id': 3435910, 'name': 'Buenos Aires', 'cod': 200}\n",
      "86.7\n",
      "---------------\n",
      "Moscow\n",
      "{'coord': {'lon': 37.6156, 'lat': 55.7522}, 'weather': [{'id': 804, 'main': 'Clouds', 'description': 'overcast clouds', 'icon': '04n'}], 'base': 'stations', 'main': {'temp': 22.48, 'feels_like': 17.49, 'temp_min': 21.15, 'temp_max': 26.15, 'pressure': 1000, 'humidity': 98, 'sea_level': 1000, 'grnd_level': 981}, 'visibility': 7996, 'wind': {'speed': 3.69, 'deg': 238, 'gust': 4.29}, 'clouds': {'all': 100}, 'dt': 1678382928, 'sys': {'type': 1, 'id': 9027, 'country': 'RU', 'sunrise': 1678334512, 'sunset': 1678375128}, 'timezone': 10800, 'id': 524901, 'name': 'Moscow', 'cod': 200}\n",
      "22.48\n",
      "---------------\n",
      "Nairobi\n",
      "{'coord': {'lon': 36.8167, 'lat': -1.2833}, 'weather': [{'id': 801, 'main': 'Clouds', 'description': 'few clouds', 'icon': '02n'}], 'base': 'stations', 'main': {'temp': 76.66, 'feels_like': 75.85, 'temp_min': 71.96, 'temp_max': 76.87, 'pressure': 1019, 'humidity': 39}, 'visibility': 10000, 'wind': {'speed': 16.11, 'deg': 60}, 'clouds': {'all': 20}, 'dt': 1678382808, 'sys': {'type': 1, 'id': 2558, 'country': 'KE', 'sunrise': 1678333186, 'sunset': 1678376837}, 'timezone': 10800, 'id': 184745, 'name': 'Nairobi', 'cod': 200}\n",
      "76.66\n",
      "---------------\n",
      "New York,48.25\n",
      "London,50.4\n",
      "Paris,55.72\n",
      "Zurich,56.3\n",
      "Cairo,74.16\n",
      "Buenos Aires,86.7\n",
      "Moscow,22.48\n",
      "Nairobi,76.66\n"
     ]
    }
   ],
   "source": [
    "# Dependencies\n",
    "import requests as req\n",
    "import json\n",
    "import csv\n",
    "\n",
    "# OpenWeather API Key\n",
    "api_key = \"417bfe8effcb6b9aa355a4de24d62458\"\n",
    "\n",
    "# Specify File Path\n",
    "csvpath = \"cities.csv\"\n",
    "\n",
    "# Build an endpoint URL to the OpenWeatherMap Service\n",
    "url = \"http://api.openweathermap.org/data/2.5/weather?\"\n",
    "\n",
    "# Open output file\n",
    "output_file = \"output.csv\"\n",
    "with open(output_file, \"w\") as csvfile:\n",
    "    # Initialize the csv.writer\n",
    "    csvwriter = csv.writer(csvfile, delimiter=\",\")\n",
    "\n",
    "    # Read CSV\n",
    "    with open(csvpath) as csvfile:\n",
    "\n",
    "        # Read the file specifying commas as delimiters\n",
    "        csvreader = csv.reader(csvfile)\n",
    "\n",
    "        # Iterate through each row of the CSV\n",
    "        for row in csvreader:\n",
    "\n",
    "            # Retrieve the city name from the CSV file\n",
    "            city = row[0]\n",
    "\n",
    "            # Print each row of the csv\n",
    "            print(city)\n",
    "\n",
    "            # Build the query URL for the OpenWeatherMap Service\n",
    "            query_url = url + \"q=\" + city + \"&appid=\" + api_key + \"&units=Imperial\"\n",
    "\n",
    "            # Make a request to the OpenWeatherMap Service\n",
    "            weather_response = req.get(query_url)\n",
    "            weather_json = weather_response.json()\n",
    "\n",
    "            # Print the JSON for each\n",
    "            print(weather_json)\n",
    "\n",
    "            # Extract the temperature for each city\n",
    "            temperature = weather_json[\"main\"][\"temp\"]\n",
    "\n",
    "            # Print the Temperatures\n",
    "            print(temperature)\n",
    "\n",
    "            # Draw a separating line\n",
    "            print(\"---------------\")\n",
    "\n",
    "            # Write the contents for each to the output CSV\n",
    "            csvwriter.writerow([city, temperature])\n",
    "\n"
   ]
  },
  {
   "cell_type": "code",
   "execution_count": 74,
   "metadata": {},
   "outputs": [
    {
     "name": "stdout",
     "output_type": "stream",
     "text": [
      "New York,48.25\n",
      "London,50.4\n",
      "Paris,55.72\n",
      "Zurich,56.3\n",
      "Cairo,74.16\n",
      "Buenos Aires,86.7\n",
      "Moscow,22.48\n",
      "Nairobi,76.66\n"
     ]
    }
   ],
   "source": [
    "# make the output file readable\n",
    "!cat output.csv\n"
   ]
  },
  {
   "cell_type": "code",
   "execution_count": 64,
   "metadata": {},
   "outputs": [
    {
     "name": "stdout",
     "output_type": "stream",
     "text": [
      "New York\n",
      "{'coord': {'lon': -74.006, 'lat': 40.7143}, 'weather': [{'id': 800, 'main': 'Clear', 'description': 'clear sky', 'icon': '01d'}], 'base': 'stations', 'main': {'temp': 47.3, 'feels_like': 41.2, 'temp_min': 43.95, 'temp_max': 50.61, 'pressure': 1020, 'humidity': 49}, 'visibility': 10000, 'wind': {'speed': 14.97, 'deg': 350, 'gust': 20.71}, 'clouds': {'all': 0}, 'dt': 1678380928, 'sys': {'type': 2, 'id': 2039034, 'country': 'US', 'sunrise': 1678360680, 'sunset': 1678402529}, 'timezone': -18000, 'id': 5128581, 'name': 'New York', 'cod': 200}\n",
      "47.3\n",
      "---------------\n",
      "London\n",
      "{'coord': {'lon': -0.1257, 'lat': 51.5085}, 'weather': [{'id': 803, 'main': 'Clouds', 'description': 'broken clouds', 'icon': '04d'}], 'base': 'stations', 'main': {'temp': 50.52, 'feels_like': 49.6, 'temp_min': 44.35, 'temp_max': 52.27, 'pressure': 987, 'humidity': 92}, 'visibility': 10000, 'wind': {'speed': 6.91, 'deg': 210}, 'clouds': {'all': 75}, 'dt': 1678380856, 'sys': {'type': 2, 'id': 2075535, 'country': 'GB', 'sunrise': 1678343352, 'sunset': 1678384400}, 'timezone': 0, 'id': 2643743, 'name': 'London', 'cod': 200}\n",
      "50.52\n",
      "---------------\n",
      "Paris\n",
      "{'coord': {'lon': 2.3488, 'lat': 48.8534}, 'weather': [{'id': 804, 'main': 'Clouds', 'description': 'overcast clouds', 'icon': '04d'}], 'base': 'stations', 'main': {'temp': 57.13, 'feels_like': 56.39, 'temp_min': 54.86, 'temp_max': 57.97, 'pressure': 995, 'humidity': 82}, 'visibility': 10000, 'wind': {'speed': 16.11, 'deg': 190}, 'clouds': {'all': 100}, 'dt': 1678380837, 'sys': {'type': 2, 'id': 2041230, 'country': 'FR', 'sunrise': 1678342651, 'sunset': 1678383914}, 'timezone': 3600, 'id': 2988507, 'name': 'Paris', 'cod': 200}\n",
      "57.13\n",
      "---------------\n",
      "Zurich\n",
      "{'coord': {'lon': 8.55, 'lat': 47.3667}, 'weather': [{'id': 802, 'main': 'Clouds', 'description': 'scattered clouds', 'icon': '03d'}], 'base': 'stations', 'main': {'temp': 56.75, 'feels_like': 54, 'temp_min': 54.16, 'temp_max': 59.22, 'pressure': 1003, 'humidity': 40}, 'visibility': 10000, 'wind': {'speed': 6.91, 'deg': 300}, 'clouds': {'all': 40}, 'dt': 1678380908, 'sys': {'type': 1, 'id': 6932, 'country': 'CH', 'sunrise': 1678341108, 'sunset': 1678382480}, 'timezone': 3600, 'id': 2657896, 'name': 'Zurich', 'cod': 200}\n",
      "56.75\n",
      "---------------\n",
      "Cairo\n",
      "{'coord': {'lon': 31.2497, 'lat': 30.0626}, 'weather': [{'id': 800, 'main': 'Clear', 'description': 'clear sky', 'icon': '01n'}], 'base': 'stations', 'main': {'temp': 75.96, 'feels_like': 74.28, 'temp_min': 75.96, 'temp_max': 75.96, 'pressure': 1015, 'humidity': 22}, 'visibility': 10000, 'wind': {'speed': 9.22, 'deg': 70}, 'clouds': {'all': 0}, 'dt': 1678380863, 'sys': {'type': 1, 'id': 2514, 'country': 'EG', 'sunrise': 1678335164, 'sunset': 1678377531}, 'timezone': 7200, 'id': 360630, 'name': 'Cairo', 'cod': 200}\n",
      "75.96\n",
      "---------------\n",
      "Buenos Aires\n",
      "{'coord': {'lon': -58.3772, 'lat': -34.6132}, 'weather': [{'id': 801, 'main': 'Clouds', 'description': 'few clouds', 'icon': '02d'}], 'base': 'stations', 'main': {'temp': 85.03, 'feels_like': 89.62, 'temp_min': 82.13, 'temp_max': 89.98, 'pressure': 1013, 'humidity': 61}, 'visibility': 10000, 'wind': {'speed': 13.8, 'deg': 100}, 'clouds': {'all': 20}, 'dt': 1678380831, 'sys': {'type': 1, 'id': 8224, 'country': 'AR', 'sunrise': 1678355254, 'sunset': 1678400453}, 'timezone': -10800, 'id': 3435910, 'name': 'Buenos Aires', 'cod': 200}\n",
      "85.03\n",
      "---------------\n",
      "Moscow\n",
      "{'coord': {'lon': 37.6156, 'lat': 55.7522}, 'weather': [{'id': 804, 'main': 'Clouds', 'description': 'overcast clouds', 'icon': '04n'}], 'base': 'stations', 'main': {'temp': 23.25, 'feels_like': 18.39, 'temp_min': 21.15, 'temp_max': 26.78, 'pressure': 1000, 'humidity': 98, 'sea_level': 1000, 'grnd_level': 981}, 'visibility': 7996, 'wind': {'speed': 3.69, 'deg': 238, 'gust': 4.29}, 'clouds': {'all': 100}, 'dt': 1678381070, 'sys': {'type': 1, 'id': 9027, 'country': 'RU', 'sunrise': 1678334512, 'sunset': 1678375128}, 'timezone': 10800, 'id': 524901, 'name': 'Moscow', 'cod': 200}\n",
      "23.25\n",
      "---------------\n",
      "Nairobi\n",
      "{'coord': {'lon': 36.8167, 'lat': -1.2833}, 'weather': [{'id': 801, 'main': 'Clouds', 'description': 'few clouds', 'icon': '02n'}], 'base': 'stations', 'main': {'temp': 79.14, 'feels_like': 79.14, 'temp_min': 72.97, 'temp_max': 79.92, 'pressure': 1018, 'humidity': 34}, 'visibility': 10000, 'wind': {'speed': 17.27, 'deg': 60}, 'clouds': {'all': 20}, 'dt': 1678380820, 'sys': {'type': 1, 'id': 2558, 'country': 'KE', 'sunrise': 1678333186, 'sunset': 1678376837}, 'timezone': 10800, 'id': 184745, 'name': 'Nairobi', 'cod': 200}\n",
      "79.14\n",
      "---------------\n",
      "New York,47.3,49,0,14.97,40.7143,-74.006\n",
      "London,50.52,92,75,6.91,51.5085,-0.1257\n",
      "Paris,57.13,82,100,16.11,48.8534,2.3488\n",
      "Zurich,56.75,40,40,6.91,47.3667,8.55\n",
      "Cairo,75.96,22,0,9.22,30.0626,31.2497\n",
      "Buenos Aires,85.03,61,20,13.8,-34.6132,-58.3772\n",
      "Moscow,23.25,98,100,3.69,55.7522,37.6156\n",
      "Nairobi,79.14,34,20,17.27,-1.2833,36.8167\n"
     ]
    }
   ],
   "source": [
    "# create a new output_full file that contains all the data features\n",
    "output_full_file = \"output_full.csv\"\n",
    "with open(output_full_file, \"w\") as csvfile:\n",
    "    # Initialize the csv.writer\n",
    "    csvwriter = csv.writer(csvfile, delimiter=\",\")\n",
    "\n",
    "    # Read CSV\n",
    "    with open(csvpath) as csvfile:\n",
    "\n",
    "        # Read the file specifying commas as delimiters\n",
    "        csvreader = csv.reader(csvfile)\n",
    "\n",
    "        # Iterate through each row of the CSV\n",
    "        for row in csvreader:\n",
    "\n",
    "            # Retrieve the city name from the CSV file\n",
    "            city = row[0]\n",
    "\n",
    "            # Print each row of the csv\n",
    "            print(city)\n",
    "\n",
    "            # Build the query URL for the OpenWeatherMap Service\n",
    "            query_url = url + \"q=\" + city + \"&appid=\" + api_key + \"&units=Imperial\"\n",
    "\n",
    "            # Make a request to the OpenWeatherMap Service\n",
    "            weather_response = req.get(query_url)\n",
    "            weather_json = weather_response.json()\n",
    "\n",
    "            # Print the JSON for each\n",
    "            print(weather_json)\n",
    "\n",
    "            # Extract the temperature for each city\n",
    "            temperature = weather_json[\"main\"][\"temp\"]\n",
    "            humidity = weather_json[\"main\"][\"humidity\"]\n",
    "            cloudiness = weather_json[\"clouds\"][\"all\"]\n",
    "            wind_speed = weather_json[\"wind\"][\"speed\"]\n",
    "            latitude = weather_json[\"coord\"][\"lat\"]\n",
    "            longitude = weather_json[\"coord\"][\"lon\"]\n",
    "\n",
    "            # Print the Temperatures\n",
    "            print(temperature)\n",
    "\n",
    "            # Draw a separating line\n",
    "            print(\"---------------\")\n",
    "\n",
    "            # Write the contents for each to the output CSV\n",
    "            csvwriter.writerow([city, temperature, humidity, cloudiness, wind_speed, latitude, longitude])\n",
    "\n",
    "# make the output_full file readable\n",
    "!cat output_full.csv\n"
   ]
  },
  {
   "cell_type": "code",
   "execution_count": 65,
   "metadata": {},
   "outputs": [
    {
     "name": "stdout",
     "output_type": "stream",
     "text": [
      "City,Temperature (F),Humidity,Cloudiness,Wind Speed,Latitude,Longitude\n",
      "New York,47.3,49,0,14.97,40.7143,-74.006\n",
      "London,50.52,92,75,6.91,51.5085,-0.1257\n",
      "Paris,57.13,82,100,16.11,48.8534,2.3488\n",
      "Zurich,56.75,40,40,6.91,47.3667,8.55\n",
      "Cairo,75.96,22,0,9.22,30.0626,31.2497\n",
      "Buenos Aires,85.03,61,20,13.8,-34.6132,-58.3772\n",
      "Moscow,23.25,98,100,3.69,55.7522,37.6156\n",
      "Nairobi,79.14,34,20,17.27,-1.2833,36.8167\n"
     ]
    }
   ],
   "source": [
    "# add a row header to the output_full file\n",
    "import pandas as pd\n",
    "df = pd.read_csv(\"output_full.csv\", header=None)\n",
    "df.columns = [\"City\", \"Temperature (F)\", \"Humidity\", \"Cloudiness\", \"Wind Speed\", \"Latitude\", \"Longitude\"]\n",
    "df.to_csv(\"output_full.csv\", index=False)\n",
    "\n",
    "# make the output_full file readable\n",
    "!cat output_full.csv"
   ]
  },
  {
   "cell_type": "code",
   "execution_count": 66,
   "metadata": {},
   "outputs": [
    {
     "name": "stdout",
     "output_type": "stream",
     "text": [
      "City,Temperature (F),Humidity,Cloudiness,Wind Speed,Latitude,Longitude,Temperature (C)\n",
      "New York,47.3,49,0,14.97,40.7143,-74.006,8.5\n",
      "London,50.52,92,75,6.91,51.5085,-0.1257,10.29\n",
      "Paris,57.13,82,100,16.11,48.8534,2.3488,13.96\n",
      "Zurich,56.75,40,40,6.91,47.3667,8.55,13.75\n",
      "Cairo,75.96,22,0,9.22,30.0626,31.2497,24.42\n",
      "Buenos Aires,85.03,61,20,13.8,-34.6132,-58.3772,29.46\n",
      "Moscow,23.25,98,100,3.69,55.7522,37.6156,-4.86\n",
      "Nairobi,79.14,34,20,17.27,-1.2833,36.8167,26.19\n"
     ]
    }
   ],
   "source": [
    "# create a fucntion to convert the temperature from Fahrenheit to Celsius and add a new column next to temperature (F) for Temperature (C) and use 2 decimal places\n",
    "def fahrenheit_to_celsius(fahrenheit):\n",
    "    return round((fahrenheit - 32) * 5/9, 2)\n",
    "\n",
    "df[\"Temperature (C)\"] = df[\"Temperature (F)\"].apply(fahrenheit_to_celsius)\n",
    "df.to_csv(\"output_full.csv\", index=False)\n",
    "\n",
    "# make the output_full file readable\n",
    "!cat output_full.csv\n",
    "\n",
    "\n"
   ]
  },
  {
   "cell_type": "code",
   "execution_count": 67,
   "metadata": {},
   "outputs": [
    {
     "name": "stdout",
     "output_type": "stream",
     "text": [
      "New York\n",
      "{'coord': {'lon': -74.006, 'lat': 40.7143}, 'weather': [{'id': 800, 'main': 'Clear', 'description': 'clear sky', 'icon': '01d'}], 'base': 'stations', 'main': {'temp': 47.3, 'feels_like': 41.2, 'temp_min': 43.95, 'temp_max': 50.61, 'pressure': 1020, 'humidity': 49}, 'visibility': 10000, 'wind': {'speed': 14.97, 'deg': 350, 'gust': 20.71}, 'clouds': {'all': 0}, 'dt': 1678380928, 'sys': {'type': 2, 'id': 2039034, 'country': 'US', 'sunrise': 1678360680, 'sunset': 1678402529}, 'timezone': -18000, 'id': 5128581, 'name': 'New York', 'cod': 200}\n",
      "47.3\n",
      "---------------\n",
      "London\n",
      "{'coord': {'lon': -0.1257, 'lat': 51.5085}, 'weather': [{'id': 803, 'main': 'Clouds', 'description': 'broken clouds', 'icon': '04d'}], 'base': 'stations', 'main': {'temp': 50.52, 'feels_like': 49.6, 'temp_min': 44.35, 'temp_max': 52.27, 'pressure': 987, 'humidity': 92}, 'visibility': 10000, 'wind': {'speed': 6.91, 'deg': 210}, 'clouds': {'all': 75}, 'dt': 1678380856, 'sys': {'type': 2, 'id': 2075535, 'country': 'GB', 'sunrise': 1678343352, 'sunset': 1678384400}, 'timezone': 0, 'id': 2643743, 'name': 'London', 'cod': 200}\n",
      "50.52\n",
      "---------------\n",
      "Paris\n",
      "{'coord': {'lon': 2.3488, 'lat': 48.8534}, 'weather': [{'id': 804, 'main': 'Clouds', 'description': 'overcast clouds', 'icon': '04d'}], 'base': 'stations', 'main': {'temp': 57.13, 'feels_like': 56.39, 'temp_min': 54.86, 'temp_max': 57.97, 'pressure': 995, 'humidity': 82}, 'visibility': 10000, 'wind': {'speed': 16.11, 'deg': 190}, 'clouds': {'all': 100}, 'dt': 1678380837, 'sys': {'type': 2, 'id': 2041230, 'country': 'FR', 'sunrise': 1678342651, 'sunset': 1678383914}, 'timezone': 3600, 'id': 2988507, 'name': 'Paris', 'cod': 200}\n",
      "57.13\n",
      "---------------\n",
      "Zurich\n",
      "{'coord': {'lon': 8.55, 'lat': 47.3667}, 'weather': [{'id': 802, 'main': 'Clouds', 'description': 'scattered clouds', 'icon': '03d'}], 'base': 'stations', 'main': {'temp': 56.75, 'feels_like': 54, 'temp_min': 54.16, 'temp_max': 59.22, 'pressure': 1003, 'humidity': 40}, 'visibility': 10000, 'wind': {'speed': 6.91, 'deg': 300}, 'clouds': {'all': 40}, 'dt': 1678380908, 'sys': {'type': 1, 'id': 6932, 'country': 'CH', 'sunrise': 1678341108, 'sunset': 1678382480}, 'timezone': 3600, 'id': 2657896, 'name': 'Zurich', 'cod': 200}\n",
      "56.75\n",
      "---------------\n",
      "Cairo\n",
      "{'coord': {'lon': 31.2497, 'lat': 30.0626}, 'weather': [{'id': 800, 'main': 'Clear', 'description': 'clear sky', 'icon': '01n'}], 'base': 'stations', 'main': {'temp': 75.96, 'feels_like': 74.28, 'temp_min': 75.96, 'temp_max': 75.96, 'pressure': 1015, 'humidity': 22}, 'visibility': 10000, 'wind': {'speed': 9.22, 'deg': 70}, 'clouds': {'all': 0}, 'dt': 1678380863, 'sys': {'type': 1, 'id': 2514, 'country': 'EG', 'sunrise': 1678335164, 'sunset': 1678377531}, 'timezone': 7200, 'id': 360630, 'name': 'Cairo', 'cod': 200}\n",
      "75.96\n",
      "---------------\n",
      "Buenos Aires\n",
      "{'coord': {'lon': -58.3772, 'lat': -34.6132}, 'weather': [{'id': 801, 'main': 'Clouds', 'description': 'few clouds', 'icon': '02d'}], 'base': 'stations', 'main': {'temp': 85.03, 'feels_like': 89.62, 'temp_min': 82.13, 'temp_max': 89.98, 'pressure': 1013, 'humidity': 61}, 'visibility': 10000, 'wind': {'speed': 13.8, 'deg': 100}, 'clouds': {'all': 20}, 'dt': 1678380831, 'sys': {'type': 1, 'id': 8224, 'country': 'AR', 'sunrise': 1678355254, 'sunset': 1678400453}, 'timezone': -10800, 'id': 3435910, 'name': 'Buenos Aires', 'cod': 200}\n",
      "85.03\n",
      "---------------\n",
      "Moscow\n",
      "{'coord': {'lon': 37.6156, 'lat': 55.7522}, 'weather': [{'id': 804, 'main': 'Clouds', 'description': 'overcast clouds', 'icon': '04n'}], 'base': 'stations', 'main': {'temp': 23.25, 'feels_like': 18.39, 'temp_min': 21.15, 'temp_max': 26.78, 'pressure': 1000, 'humidity': 98, 'sea_level': 1000, 'grnd_level': 981}, 'visibility': 7996, 'wind': {'speed': 3.69, 'deg': 238, 'gust': 4.29}, 'clouds': {'all': 100}, 'dt': 1678381070, 'sys': {'type': 1, 'id': 9027, 'country': 'RU', 'sunrise': 1678334512, 'sunset': 1678375128}, 'timezone': 10800, 'id': 524901, 'name': 'Moscow', 'cod': 200}\n",
      "23.25\n",
      "---------------\n",
      "Nairobi\n",
      "{'coord': {'lon': 36.8167, 'lat': -1.2833}, 'weather': [{'id': 801, 'main': 'Clouds', 'description': 'few clouds', 'icon': '02n'}], 'base': 'stations', 'main': {'temp': 79.14, 'feels_like': 79.14, 'temp_min': 72.97, 'temp_max': 79.92, 'pressure': 1018, 'humidity': 34}, 'visibility': 10000, 'wind': {'speed': 17.27, 'deg': 60}, 'clouds': {'all': 20}, 'dt': 1678380820, 'sys': {'type': 1, 'id': 2558, 'country': 'KE', 'sunrise': 1678333186, 'sunset': 1678376837}, 'timezone': 10800, 'id': 184745, 'name': 'Nairobi', 'cod': 200}\n",
      "79.14\n",
      "---------------\n"
     ]
    }
   ],
   "source": [
    "# open the output file, add a row header with the column names, and save the file take in account that the expected number row is 7 and the new number of rows will be 8\n",
    "\n",
    "# import pandas as pd\n",
    "# df = pd.read_csv(\"output_full.csv\", header=None)\n",
    "# df.columns = [\"City\", \"Temperature (F)\", \"Humidity\", \"Cloudiness\", \"Wind Speed\", \"Latitude\", \"Longitude\", \"Temperature (C)\"]\n",
    "# df.to_csv(\"output_full.csv\", index=False)\n",
    "\n",
    "# # make the output_full file readable\n",
    "# !cat output_full.csv\n",
    "\n",
    "# create a new output_full file that contains all the data features\n",
    "output_full_file = \"output_full.csv\"\n",
    "with open(output_full_file, \"w\") as csvfile:\n",
    "    # Initialize the csv.writer\n",
    "    csvwriter = csv.writer(csvfile, delimiter=\",\")\n",
    "\n",
    "    # Read CSV\n",
    "    with open(csvpath) as csvfile:\n",
    "\n",
    "        # Read the file specifying commas as delimiters\n",
    "        csvreader = csv.reader(csvfile)\n",
    "\n",
    "        # Iterate through each row of the CSV\n",
    "        for row in csvreader:\n",
    "\n",
    "            # Retrieve the city name from the CSV file\n",
    "            city = row[0]\n",
    "\n",
    "            # Print each row of the csv\n",
    "            print(city)\n",
    "\n",
    "            # Build the query URL for the OpenWeatherMap Service\n",
    "            query_url = url + \"q=\" + city + \"&appid=\" + api_key + \"&units=Imperial\"\n",
    "\n",
    "            # Make a request to the OpenWeatherMap Service\n",
    "            weather_response = req.get(query_url)\n",
    "            weather_json = weather_response.json()\n",
    "\n",
    "            # Print the JSON for each\n",
    "            print(weather_json)\n",
    "\n",
    "            # Extract the temperature for each city\n",
    "            temperature = weather_json[\"main\"][\"temp\"]\n",
    "            humidity = weather_json[\"main\"][\"humidity\"]\n",
    "            cloudiness = weather_json[\"clouds\"][\"all\"]\n",
    "            wind_speed = weather_json[\"wind\"][\"speed\"]\n",
    "            latitude = weather_json[\"coord\"][\"lat\"]\n",
    "            longitude = weather_json[\"coord\"][\"lon\"]\n",
    "\n",
    "            # Print the Temperatures\n",
    "            print(temperature)\n",
    "\n",
    "            # Draw a separating line\n",
    "            print(\"---------------\")\n",
    "\n",
    "            # Write the contents for each to the output CSV\n",
    "            csvwriter.writerow([city, temperature, humidity, cloudiness, wind_speed, latitude, longitude])\n",
    "\n"
   ]
  },
  {
   "cell_type": "code",
   "execution_count": 68,
   "metadata": {},
   "outputs": [
    {
     "name": "stdout",
     "output_type": "stream",
     "text": [
      "Requirement already satisfied: citipy in /Users/ops/opt/anaconda3/envs/sklearn-env/lib/python3.10/site-packages (0.0.5)\n",
      "Requirement already satisfied: kdtree>=0.12 in /Users/ops/opt/anaconda3/envs/sklearn-env/lib/python3.10/site-packages (from citipy) (0.16)\n"
     ]
    }
   ],
   "source": [
    "# install the citipy package\n",
    "!pip install citipy"
   ]
  },
  {
   "cell_type": "code",
   "execution_count": 69,
   "metadata": {},
   "outputs": [
    {
     "name": "stdout",
     "output_type": "stream",
     "text": [
      "City,Temperature (F),Humidity,Cloudiness,Wind Speed,Latitude,Longitude,Temperature (C),Nearest City\n",
      "New York,47.3,49,0,14.97,40.7143,-74.006,8.5,new york\n",
      "London,50.52,92,75,6.91,51.5085,-0.1257,10.29,london\n",
      "Paris,57.13,82,100,16.11,48.8534,2.3488,13.96,paris\n",
      "Zurich,56.75,40,40,6.91,47.3667,8.55,13.75,zurich\n",
      "Cairo,75.96,22,0,9.22,30.0626,31.2497,24.42,cairo\n",
      "Buenos Aires,85.03,61,20,13.8,-34.6132,-58.3772,29.46,san vicente\n",
      "Moscow,23.25,98,100,3.69,55.7522,37.6156,-4.86,moscow\n",
      "Nairobi,79.14,34,20,17.27,-1.2833,36.8167,26.19,nairobi\n",
      "New York\n",
      "{'coord': {'lon': -74.006, 'lat': 40.7143}, 'weather': [{'id': 800, 'main': 'Clear', 'description': 'clear sky', 'icon': '01d'}], 'base': 'stations', 'main': {'temp': 47.3, 'feels_like': 41.2, 'temp_min': 43.95, 'temp_max': 50.61, 'pressure': 1020, 'humidity': 49}, 'visibility': 10000, 'wind': {'speed': 14.97, 'deg': 350, 'gust': 20.71}, 'clouds': {'all': 0}, 'dt': 1678380928, 'sys': {'type': 2, 'id': 2039034, 'country': 'US', 'sunrise': 1678360680, 'sunset': 1678402529}, 'timezone': -18000, 'id': 5128581, 'name': 'New York', 'cod': 200}\n",
      "47.3\n",
      "---------------\n",
      "London\n",
      "{'coord': {'lon': -0.1257, 'lat': 51.5085}, 'weather': [{'id': 803, 'main': 'Clouds', 'description': 'broken clouds', 'icon': '04d'}], 'base': 'stations', 'main': {'temp': 50.52, 'feels_like': 49.6, 'temp_min': 44.35, 'temp_max': 52.27, 'pressure': 987, 'humidity': 92}, 'visibility': 10000, 'wind': {'speed': 6.91, 'deg': 210}, 'clouds': {'all': 75}, 'dt': 1678380856, 'sys': {'type': 2, 'id': 2075535, 'country': 'GB', 'sunrise': 1678343352, 'sunset': 1678384400}, 'timezone': 0, 'id': 2643743, 'name': 'London', 'cod': 200}\n",
      "50.52\n",
      "---------------\n",
      "Paris\n",
      "{'coord': {'lon': 2.3488, 'lat': 48.8534}, 'weather': [{'id': 804, 'main': 'Clouds', 'description': 'overcast clouds', 'icon': '04d'}], 'base': 'stations', 'main': {'temp': 57.13, 'feels_like': 56.39, 'temp_min': 54.86, 'temp_max': 57.97, 'pressure': 995, 'humidity': 82}, 'visibility': 10000, 'wind': {'speed': 16.11, 'deg': 190}, 'clouds': {'all': 100}, 'dt': 1678380837, 'sys': {'type': 2, 'id': 2041230, 'country': 'FR', 'sunrise': 1678342651, 'sunset': 1678383914}, 'timezone': 3600, 'id': 2988507, 'name': 'Paris', 'cod': 200}\n",
      "57.13\n",
      "---------------\n",
      "Zurich\n",
      "{'coord': {'lon': 8.55, 'lat': 47.3667}, 'weather': [{'id': 802, 'main': 'Clouds', 'description': 'scattered clouds', 'icon': '03d'}], 'base': 'stations', 'main': {'temp': 56.75, 'feels_like': 54, 'temp_min': 54.16, 'temp_max': 59.22, 'pressure': 1003, 'humidity': 40}, 'visibility': 10000, 'wind': {'speed': 6.91, 'deg': 300}, 'clouds': {'all': 40}, 'dt': 1678380908, 'sys': {'type': 1, 'id': 6932, 'country': 'CH', 'sunrise': 1678341108, 'sunset': 1678382480}, 'timezone': 3600, 'id': 2657896, 'name': 'Zurich', 'cod': 200}\n",
      "56.75\n",
      "---------------\n",
      "Cairo\n",
      "{'coord': {'lon': 31.2497, 'lat': 30.0626}, 'weather': [{'id': 800, 'main': 'Clear', 'description': 'clear sky', 'icon': '01n'}], 'base': 'stations', 'main': {'temp': 75.96, 'feels_like': 74.28, 'temp_min': 75.96, 'temp_max': 75.96, 'pressure': 1015, 'humidity': 22}, 'visibility': 10000, 'wind': {'speed': 9.22, 'deg': 70}, 'clouds': {'all': 0}, 'dt': 1678380863, 'sys': {'type': 1, 'id': 2514, 'country': 'EG', 'sunrise': 1678335164, 'sunset': 1678377531}, 'timezone': 7200, 'id': 360630, 'name': 'Cairo', 'cod': 200}\n",
      "75.96\n",
      "---------------\n",
      "Buenos Aires\n",
      "{'coord': {'lon': -58.3772, 'lat': -34.6132}, 'weather': [{'id': 801, 'main': 'Clouds', 'description': 'few clouds', 'icon': '02d'}], 'base': 'stations', 'main': {'temp': 85.03, 'feels_like': 89.62, 'temp_min': 82.13, 'temp_max': 89.98, 'pressure': 1013, 'humidity': 61}, 'visibility': 10000, 'wind': {'speed': 13.8, 'deg': 100}, 'clouds': {'all': 20}, 'dt': 1678380831, 'sys': {'type': 1, 'id': 8224, 'country': 'AR', 'sunrise': 1678355254, 'sunset': 1678400453}, 'timezone': -10800, 'id': 3435910, 'name': 'Buenos Aires', 'cod': 200}\n",
      "85.03\n",
      "---------------\n",
      "Moscow\n",
      "{'coord': {'lon': 37.6156, 'lat': 55.7522}, 'weather': [{'id': 804, 'main': 'Clouds', 'description': 'overcast clouds', 'icon': '04n'}], 'base': 'stations', 'main': {'temp': 23.25, 'feels_like': 18.39, 'temp_min': 21.15, 'temp_max': 26.78, 'pressure': 1000, 'humidity': 98, 'sea_level': 1000, 'grnd_level': 981}, 'visibility': 7996, 'wind': {'speed': 3.69, 'deg': 238, 'gust': 4.29}, 'clouds': {'all': 100}, 'dt': 1678381070, 'sys': {'type': 1, 'id': 9027, 'country': 'RU', 'sunrise': 1678334512, 'sunset': 1678375128}, 'timezone': 10800, 'id': 524901, 'name': 'Moscow', 'cod': 200}\n",
      "23.25\n",
      "---------------\n",
      "Nairobi\n",
      "{'coord': {'lon': 36.8167, 'lat': -1.2833}, 'weather': [{'id': 801, 'main': 'Clouds', 'description': 'few clouds', 'icon': '02n'}], 'base': 'stations', 'main': {'temp': 79.14, 'feels_like': 79.14, 'temp_min': 72.97, 'temp_max': 79.92, 'pressure': 1018, 'humidity': 34}, 'visibility': 10000, 'wind': {'speed': 17.27, 'deg': 60}, 'clouds': {'all': 20}, 'dt': 1678380820, 'sys': {'type': 1, 'id': 2558, 'country': 'KE', 'sunrise': 1678333186, 'sunset': 1678376837}, 'timezone': 10800, 'id': 184745, 'name': 'Nairobi', 'cod': 200}\n",
      "79.14\n",
      "---------------\n",
      "New York,47.3,49,0,14.97,40.7143,-74.006\n",
      "London,50.52,92,75,6.91,51.5085,-0.1257\n",
      "Paris,57.13,82,100,16.11,48.8534,2.3488\n",
      "Zurich,56.75,40,40,6.91,47.3667,8.55\n",
      "Cairo,75.96,22,0,9.22,30.0626,31.2497\n",
      "Buenos Aires,85.03,61,20,13.8,-34.6132,-58.3772\n",
      "Moscow,23.25,98,100,3.69,55.7522,37.6156\n",
      "Nairobi,79.14,34,20,17.27,-1.2833,36.8167\n"
     ]
    }
   ],
   "source": [
    "# Citypy library to find the nearest city to the coordinates of the cities in the csv file \n",
    "from citipy import citipy\n",
    "\n",
    "# create a list to store the nearest cities\n",
    "nearest_cities = []\n",
    "\n",
    "# iterate through the cities in the csv file\n",
    "for index, row in df.iterrows():\n",
    "    city = citipy.nearest_city(row[\"Latitude\"], row[\"Longitude\"])\n",
    "    nearest_cities.append(city.city_name)\n",
    "\n",
    "# add the nearest cities to the dataframe\n",
    "df[\"Nearest City\"] = nearest_cities\n",
    "df.to_csv(\"output_full.csv\", index=False)\n",
    "\n",
    "# make the output_full file readable\n",
    "!cat output_full.csv\n",
    "\n",
    "# create a new output_full file that contains all the data features\n",
    "output_full_file = \"output_full.csv\"\n",
    "with open(output_full_file, \"w\") as csvfile:\n",
    "    # Initialize the csv.writer\n",
    "    csvwriter = csv.writer(csvfile, delimiter=\",\")\n",
    "\n",
    "    # Read CSV\n",
    "    with open(csvpath) as csvfile:\n",
    "\n",
    "        # Read the file specifying commas as delimiters\n",
    "        csvreader = csv.reader(csvfile)\n",
    "\n",
    "        # Iterate through each row of the CSV\n",
    "        for row in csvreader:\n",
    "\n",
    "            # Retrieve the city name from the CSV file\n",
    "            city = row[0]\n",
    "\n",
    "            # Print each row of the csv\n",
    "            print(city)\n",
    "\n",
    "            # Build the query URL for the OpenWeatherMap Service\n",
    "            query_url = url + \"q=\" + city + \"&appid=\" + api_key + \"&units=Imperial\"\n",
    "\n",
    "            # Make a request to the OpenWeatherMap Service\n",
    "            weather_response = req.get(query_url)\n",
    "            weather_json = weather_response.json()\n",
    "\n",
    "            # Print the JSON for each\n",
    "            print(weather_json)\n",
    "\n",
    "            # Extract the temperature for each city\n",
    "            temperature = weather_json[\"main\"][\"temp\"]\n",
    "            humidity = weather_json[\"main\"][\"humidity\"]\n",
    "            cloudiness = weather_json[\"clouds\"][\"all\"]\n",
    "            wind_speed = weather_json[\"wind\"][\"speed\"]\n",
    "            latitude = weather_json[\"coord\"][\"lat\"]\n",
    "            longitude = weather_json[\"coord\"][\"lon\"]\n",
    "\n",
    "            # Print the Temperatures\n",
    "            print(temperature)\n",
    "\n",
    "            # Draw a separating line\n",
    "            print(\"---------------\")\n",
    "\n",
    "            # Write the contents for each to the output CSV\n",
    "            csvwriter.writerow([city, temperature, humidity, cloudiness, wind_speed, latitude, longitude])\n",
    "\n",
    "# make the output_full file readable\n",
    "!cat output_full.csv\n",
    "\n"
   ]
  },
  {
   "cell_type": "code",
   "execution_count": 70,
   "metadata": {},
   "outputs": [
    {
     "name": "stdout",
     "output_type": "stream",
     "text": [
      "Requirement already satisfied: seaborn in /Users/ops/opt/anaconda3/envs/sklearn-env/lib/python3.10/site-packages (0.12.2)\n",
      "Requirement already satisfied: matplotlib!=3.6.1,>=3.1 in /Users/ops/opt/anaconda3/envs/sklearn-env/lib/python3.10/site-packages (from seaborn) (3.7.1)\n",
      "Requirement already satisfied: pandas>=0.25 in /Users/ops/opt/anaconda3/envs/sklearn-env/lib/python3.10/site-packages (from seaborn) (1.5.1)\n",
      "Requirement already satisfied: numpy!=1.24.0,>=1.17 in /Users/ops/opt/anaconda3/envs/sklearn-env/lib/python3.10/site-packages (from seaborn) (1.23.4)\n",
      "Requirement already satisfied: fonttools>=4.22.0 in /Users/ops/opt/anaconda3/envs/sklearn-env/lib/python3.10/site-packages (from matplotlib!=3.6.1,>=3.1->seaborn) (4.38.0)\n",
      "Requirement already satisfied: kiwisolver>=1.0.1 in /Users/ops/opt/anaconda3/envs/sklearn-env/lib/python3.10/site-packages (from matplotlib!=3.6.1,>=3.1->seaborn) (1.4.4)\n",
      "Requirement already satisfied: pyparsing>=2.3.1 in /Users/ops/opt/anaconda3/envs/sklearn-env/lib/python3.10/site-packages (from matplotlib!=3.6.1,>=3.1->seaborn) (3.0.9)\n",
      "Requirement already satisfied: python-dateutil>=2.7 in /Users/ops/opt/anaconda3/envs/sklearn-env/lib/python3.10/site-packages (from matplotlib!=3.6.1,>=3.1->seaborn) (2.8.2)\n",
      "Requirement already satisfied: pillow>=6.2.0 in /Users/ops/opt/anaconda3/envs/sklearn-env/lib/python3.10/site-packages (from matplotlib!=3.6.1,>=3.1->seaborn) (9.2.0)\n",
      "Requirement already satisfied: contourpy>=1.0.1 in /Users/ops/opt/anaconda3/envs/sklearn-env/lib/python3.10/site-packages (from matplotlib!=3.6.1,>=3.1->seaborn) (1.0.5)\n",
      "Requirement already satisfied: cycler>=0.10 in /Users/ops/opt/anaconda3/envs/sklearn-env/lib/python3.10/site-packages (from matplotlib!=3.6.1,>=3.1->seaborn) (0.11.0)\n",
      "Requirement already satisfied: packaging>=20.0 in /Users/ops/opt/anaconda3/envs/sklearn-env/lib/python3.10/site-packages (from matplotlib!=3.6.1,>=3.1->seaborn) (21.3)\n",
      "Requirement already satisfied: pytz>=2020.1 in /Users/ops/opt/anaconda3/envs/sklearn-env/lib/python3.10/site-packages (from pandas>=0.25->seaborn) (2022.5)\n",
      "Requirement already satisfied: six>=1.5 in /Users/ops/opt/anaconda3/envs/sklearn-env/lib/python3.10/site-packages (from python-dateutil>=2.7->matplotlib!=3.6.1,>=3.1->seaborn) (1.16.0)\n"
     ]
    }
   ],
   "source": [
    "# install seaborn\n",
    "!pip install seaborn"
   ]
  },
  {
   "cell_type": "code",
   "execution_count": 71,
   "metadata": {},
   "outputs": [
    {
     "data": {
      "image/png": "[encoded data removed]",
      "text/plain": [
       "<Figure size 500x500 with 1 Axes>"
      ]
     },
     "metadata": {},
     "output_type": "display_data"
    }
   ],
   "source": [
    "# create a scatter plot of temperature (F) vs. latitude\n",
    "import seaborn as sns   \n",
    "sns.lmplot(x=\"Latitude\", y=\"Temperature (F)\", data=df, fit_reg=False)\n",
    "plt.title(\"Temperature (F) vs. Latitude\")\n",
    "plt.show()\n",
    "\n"
   ]
  },
  {
   "cell_type": "code",
   "execution_count": null,
   "metadata": {},
   "outputs": [],
   "source": []
  }
 ],
 "metadata": {
  "kernelspec": {
   "display_name": "sklearn-env",
   "language": "python",
   "name": "python3"
  },
  "language_info": {
   "codemirror_mode": {
    "name": "ipython",
    "version": 3
   },
   "file_extension": ".py",
   "mimetype": "text/x-python",
   "name": "python",
   "nbconvert_exporter": "python",
   "pygments_lexer": "ipython3",
   "version": "3.10.6"
  },
  "orig_nbformat": 4
 },
 "nbformat": 4,
 "nbformat_minor": 2
}
