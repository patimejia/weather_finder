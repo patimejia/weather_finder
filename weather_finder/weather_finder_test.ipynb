{
 "cells": [
  {
   "cell_type": "code",
   "execution_count": 35,
   "metadata": {},
   "outputs": [
    {
     "name": "stdout",
     "output_type": "stream",
     "text": [
      "New York\n",
      "London\n",
      "Paris\n",
      "Zurich\n",
      "Cairo\n",
      "Buenos Aires\n",
      "Moscow\n",
      "Nairobi"
     ]
    }
   ],
   "source": [
    "# show portion content of  the file\n",
    "!head -n 10 cities.csv"
   ]
  },
  {
   "cell_type": "code",
   "execution_count": 36,
   "metadata": {},
   "outputs": [
    {
     "name": "stdout",
     "output_type": "stream",
     "text": [
      "Number of lines in the file: 7\n"
     ]
    }
   ],
   "source": [
    "\n",
    "# show and print notification of file content length with nice format\n",
    "!wc -l cities.csv | awk '{print \"Number of lines in the file: \" $1}'\n",
    "\n"
   ]
  },
  {
   "cell_type": "code",
   "execution_count": 37,
   "metadata": {},
   "outputs": [],
   "source": [
    "# !pip install requests"
   ]
  },
  {
   "cell_type": "code",
   "execution_count": 38,
   "metadata": {},
   "outputs": [
    {
     "name": "stdout",
     "output_type": "stream",
     "text": [
      "New York\n",
      "{'coord': {'lon': -74.006, 'lat': 40.7143}, 'weather': [{'id': 803, 'main': 'Clouds', 'description': 'broken clouds', 'icon': '04n'}], 'base': 'stations', 'main': {'temp': 33.73, 'feels_like': 23.81, 'temp_min': 31.51, 'temp_max': 35.22, 'pressure': 1022, 'humidity': 67}, 'visibility': 10000, 'wind': {'speed': 14.97, 'deg': 330}, 'clouds': {'all': 75}, 'dt': 1678354373, 'sys': {'type': 2, 'id': 2039034, 'country': 'US', 'sunrise': 1678360680, 'sunset': 1678402529}, 'timezone': -18000, 'id': 5128581, 'name': 'New York', 'cod': 200}\n",
      "33.73\n",
      "---------------\n",
      "London\n",
      "{'coord': {'lon': -0.1257, 'lat': 51.5085}, 'weather': [{'id': 311, 'main': 'Drizzle', 'description': 'drizzle rain', 'icon': '09d'}, {'id': 500, 'main': 'Rain', 'description': 'light rain', 'icon': '10d'}], 'base': 'stations', 'main': {'temp': 39.58, 'feels_like': 32.07, 'temp_min': 37.29, 'temp_max': 42.37, 'pressure': 993, 'humidity': 96}, 'visibility': 3200, 'wind': {'speed': 12.66, 'deg': 100}, 'rain': {'1h': 0.11}, 'clouds': {'all': 100}, 'dt': 1678354354, 'sys': {'type': 2, 'id': 2075535, 'country': 'GB', 'sunrise': 1678343352, 'sunset': 1678384400}, 'timezone': 0, 'id': 2643743, 'name': 'London', 'cod': 200}\n",
      "39.58\n",
      "---------------\n",
      "Paris\n",
      "{'coord': {'lon': 2.3488, 'lat': 48.8534}, 'weather': [{'id': 804, 'main': 'Clouds', 'description': 'overcast clouds', 'icon': '04d'}], 'base': 'stations', 'main': {'temp': 53.89, 'feels_like': 52.92, 'temp_min': 52.38, 'temp_max': 55.26, 'pressure': 1000, 'humidity': 84}, 'visibility': 10000, 'wind': {'speed': 14.97, 'deg': 220}, 'clouds': {'all': 100}, 'dt': 1678354306, 'sys': {'type': 2, 'id': 2041230, 'country': 'FR', 'sunrise': 1678342651, 'sunset': 1678383914}, 'timezone': 3600, 'id': 2988507, 'name': 'Paris', 'cod': 200}\n",
      "53.89\n",
      "---------------\n",
      "Zurich\n",
      "{'coord': {'lon': 8.55, 'lat': 47.3667}, 'weather': [{'id': 801, 'main': 'Clouds', 'description': 'few clouds', 'icon': '02d'}], 'base': 'stations', 'main': {'temp': 51.8, 'feels_like': 49.87, 'temp_min': 49.91, 'temp_max': 55.36, 'pressure': 1006, 'humidity': 68}, 'visibility': 10000, 'wind': {'speed': 16.11, 'deg': 240}, 'clouds': {'all': 20}, 'dt': 1678354505, 'sys': {'type': 2, 'id': 2019255, 'country': 'CH', 'sunrise': 1678341108, 'sunset': 1678382480}, 'timezone': 3600, 'id': 2657896, 'name': 'Zurich', 'cod': 200}\n",
      "51.8\n",
      "---------------\n",
      "Cairo\n",
      "{'coord': {'lon': 31.2497, 'lat': 30.0626}, 'weather': [{'id': 800, 'main': 'Clear', 'description': 'clear sky', 'icon': '01d'}], 'base': 'stations', 'main': {'temp': 74.16, 'feels_like': 72.27, 'temp_min': 74.16, 'temp_max': 74.16, 'pressure': 1017, 'humidity': 21}, 'visibility': 10000, 'wind': {'speed': 3.44, 'deg': 350}, 'clouds': {'all': 0}, 'dt': 1678354410, 'sys': {'type': 1, 'id': 2514, 'country': 'EG', 'sunrise': 1678335164, 'sunset': 1678377531}, 'timezone': 7200, 'id': 360630, 'name': 'Cairo', 'cod': 200}\n",
      "74.16\n",
      "---------------\n",
      "Buenos Aires\n",
      "{'coord': {'lon': -58.3772, 'lat': -34.6132}, 'weather': [{'id': 800, 'main': 'Clear', 'description': 'clear sky', 'icon': '01n'}], 'base': 'stations', 'main': {'temp': 75.54, 'feels_like': 76.6, 'temp_min': 69.69, 'temp_max': 76.95, 'pressure': 1013, 'humidity': 81}, 'visibility': 10000, 'wind': {'speed': 8.05, 'deg': 90}, 'clouds': {'all': 0}, 'dt': 1678354241, 'sys': {'type': 1, 'id': 8224, 'country': 'AR', 'sunrise': 1678355254, 'sunset': 1678400453}, 'timezone': -10800, 'id': 3435910, 'name': 'Buenos Aires', 'cod': 200}\n",
      "75.54\n",
      "---------------\n",
      "Moscow\n",
      "{'coord': {'lon': 37.6156, 'lat': 55.7522}, 'weather': [{'id': 804, 'main': 'Clouds', 'description': 'overcast clouds', 'icon': '04d'}], 'base': 'stations', 'main': {'temp': 30.51, 'feels_like': 20.91, 'temp_min': 30.15, 'temp_max': 31.55, 'pressure': 999, 'humidity': 85, 'sea_level': 999, 'grnd_level': 981}, 'visibility': 10000, 'wind': {'speed': 11.99, 'deg': 220, 'gust': 23.87}, 'clouds': {'all': 100}, 'dt': 1678354503, 'sys': {'type': 2, 'id': 47754, 'country': 'RU', 'sunrise': 1678334512, 'sunset': 1678375128}, 'timezone': 10800, 'id': 524901, 'name': 'Moscow', 'cod': 200}\n",
      "30.51\n",
      "---------------\n",
      "Nairobi\n",
      "{'coord': {'lon': 36.8167, 'lat': -1.2833}, 'weather': [{'id': 801, 'main': 'Clouds', 'description': 'few clouds', 'icon': '02d'}], 'base': 'stations', 'main': {'temp': 80.94, 'feels_like': 79.5, 'temp_min': 80.47, 'temp_max': 82.96, 'pressure': 1022, 'humidity': 26}, 'visibility': 10000, 'wind': {'speed': 10.36, 'deg': 60}, 'clouds': {'all': 20}, 'dt': 1678354098, 'sys': {'type': 1, 'id': 2558, 'country': 'KE', 'sunrise': 1678333186, 'sunset': 1678376837}, 'timezone': 10800, 'id': 184745, 'name': 'Nairobi', 'cod': 200}\n",
      "80.94\n",
      "---------------\n"
     ]
    }
   ],
   "source": [
    "# Dependencies\n",
    "import requests as req\n",
    "import json\n",
    "import csv\n",
    "\n",
    "# OpenWeather API Key\n",
    "api_key = \"417bfe8effcb6b9aa355a4de24d62458\"\n",
    "\n",
    "# Specify File Path\n",
    "csvpath = \"cities.csv\"\n",
    "\n",
    "# Build an endpoint URL to the OpenWeatherMap Service\n",
    "url = \"http://api.openweathermap.org/data/2.5/weather?\"\n",
    "\n",
    "# Open output file\n",
    "output_file = \"output.csv\"\n",
    "with open(output_file, \"w\") as csvfile:\n",
    "    # Initialize the csv.writer\n",
    "    csvwriter = csv.writer(csvfile, delimiter=\",\")\n",
    "\n",
    "    # Read CSV\n",
    "    with open(csvpath) as csvfile:\n",
    "\n",
    "        # Read the file specifying commas as delimiters\n",
    "        csvreader = csv.reader(csvfile)\n",
    "\n",
    "        # Iterate through each row of the CSV\n",
    "        for row in csvreader:\n",
    "\n",
    "            # Retrieve the city name from the CSV file\n",
    "            city = row[0]\n",
    "\n",
    "            # Print each row of the csv\n",
    "            print(city)\n",
    "\n",
    "            # Build the query URL for the OpenWeatherMap Service\n",
    "            query_url = url + \"q=\" + city + \"&appid=\" + api_key + \"&units=Imperial\"\n",
    "\n",
    "            # Make a request to the OpenWeatherMap Service\n",
    "            weather_response = req.get(query_url)\n",
    "            weather_json = weather_response.json()\n",
    "\n",
    "            # Print the JSON for each\n",
    "            print(weather_json)\n",
    "\n",
    "            # Extract the temperature for each city\n",
    "            temperature = weather_json[\"main\"][\"temp\"]\n",
    "\n",
    "            # Print the Temperatures\n",
    "            print(temperature)\n",
    "\n",
    "            # Draw a separating line\n",
    "            print(\"---------------\")\n",
    "\n",
    "            # Write the contents for each to the output CSV\n",
    "            csvwriter.writerow([city, temperature])"
   ]
  },
  {
   "cell_type": "code",
   "execution_count": 39,
   "metadata": {},
   "outputs": [
    {
     "name": "stdout",
     "output_type": "stream",
     "text": [
      "New York,33.73\n",
      "London,39.58\n",
      "Paris,53.89\n",
      "Zurich,51.8\n",
      "Cairo,74.16\n",
      "Buenos Aires,75.54\n",
      "Moscow,30.51\n",
      "Nairobi,80.94\n"
     ]
    }
   ],
   "source": [
    "# make the output file readable\n",
    "!cat output.csv\n"
   ]
  },
  {
   "cell_type": "code",
   "execution_count": 40,
   "metadata": {},
   "outputs": [
    {
     "name": "stdout",
     "output_type": "stream",
     "text": [
      "New York\n",
      "{'coord': {'lon': -74.006, 'lat': 40.7143}, 'weather': [{'id': 803, 'main': 'Clouds', 'description': 'broken clouds', 'icon': '04n'}], 'base': 'stations', 'main': {'temp': 33.73, 'feels_like': 23.81, 'temp_min': 31.51, 'temp_max': 35.22, 'pressure': 1022, 'humidity': 67}, 'visibility': 10000, 'wind': {'speed': 14.97, 'deg': 330}, 'clouds': {'all': 75}, 'dt': 1678354373, 'sys': {'type': 2, 'id': 2039034, 'country': 'US', 'sunrise': 1678360680, 'sunset': 1678402529}, 'timezone': -18000, 'id': 5128581, 'name': 'New York', 'cod': 200}\n",
      "33.73\n",
      "---------------\n",
      "London\n",
      "{'coord': {'lon': -0.1257, 'lat': 51.5085}, 'weather': [{'id': 311, 'main': 'Drizzle', 'description': 'drizzle rain', 'icon': '09d'}, {'id': 500, 'main': 'Rain', 'description': 'light rain', 'icon': '10d'}], 'base': 'stations', 'main': {'temp': 39.58, 'feels_like': 32.07, 'temp_min': 37.29, 'temp_max': 42.37, 'pressure': 993, 'humidity': 96}, 'visibility': 3200, 'wind': {'speed': 12.66, 'deg': 100}, 'rain': {'1h': 0.11}, 'clouds': {'all': 100}, 'dt': 1678354354, 'sys': {'type': 2, 'id': 2075535, 'country': 'GB', 'sunrise': 1678343352, 'sunset': 1678384400}, 'timezone': 0, 'id': 2643743, 'name': 'London', 'cod': 200}\n",
      "39.58\n",
      "---------------\n",
      "Paris\n",
      "{'coord': {'lon': 2.3488, 'lat': 48.8534}, 'weather': [{'id': 804, 'main': 'Clouds', 'description': 'overcast clouds', 'icon': '04d'}], 'base': 'stations', 'main': {'temp': 53.89, 'feels_like': 52.92, 'temp_min': 52.38, 'temp_max': 55.26, 'pressure': 1000, 'humidity': 84}, 'visibility': 10000, 'wind': {'speed': 14.97, 'deg': 220}, 'clouds': {'all': 100}, 'dt': 1678354306, 'sys': {'type': 2, 'id': 2041230, 'country': 'FR', 'sunrise': 1678342651, 'sunset': 1678383914}, 'timezone': 3600, 'id': 2988507, 'name': 'Paris', 'cod': 200}\n",
      "53.89\n",
      "---------------\n",
      "Zurich\n",
      "{'coord': {'lon': 8.55, 'lat': 47.3667}, 'weather': [{'id': 801, 'main': 'Clouds', 'description': 'few clouds', 'icon': '02d'}], 'base': 'stations', 'main': {'temp': 51.8, 'feels_like': 49.87, 'temp_min': 49.91, 'temp_max': 55.36, 'pressure': 1006, 'humidity': 68}, 'visibility': 10000, 'wind': {'speed': 16.11, 'deg': 240}, 'clouds': {'all': 20}, 'dt': 1678354505, 'sys': {'type': 2, 'id': 2019255, 'country': 'CH', 'sunrise': 1678341108, 'sunset': 1678382480}, 'timezone': 3600, 'id': 2657896, 'name': 'Zurich', 'cod': 200}\n",
      "51.8\n",
      "---------------\n",
      "Cairo\n",
      "{'coord': {'lon': 31.2497, 'lat': 30.0626}, 'weather': [{'id': 800, 'main': 'Clear', 'description': 'clear sky', 'icon': '01d'}], 'base': 'stations', 'main': {'temp': 74.16, 'feels_like': 72.27, 'temp_min': 74.16, 'temp_max': 74.16, 'pressure': 1017, 'humidity': 21}, 'visibility': 10000, 'wind': {'speed': 3.44, 'deg': 350}, 'clouds': {'all': 0}, 'dt': 1678354410, 'sys': {'type': 1, 'id': 2514, 'country': 'EG', 'sunrise': 1678335164, 'sunset': 1678377531}, 'timezone': 7200, 'id': 360630, 'name': 'Cairo', 'cod': 200}\n",
      "74.16\n",
      "---------------\n",
      "Buenos Aires\n",
      "{'coord': {'lon': -58.3772, 'lat': -34.6132}, 'weather': [{'id': 800, 'main': 'Clear', 'description': 'clear sky', 'icon': '01n'}], 'base': 'stations', 'main': {'temp': 75.54, 'feels_like': 76.6, 'temp_min': 69.69, 'temp_max': 76.95, 'pressure': 1013, 'humidity': 81}, 'visibility': 10000, 'wind': {'speed': 8.05, 'deg': 90}, 'clouds': {'all': 0}, 'dt': 1678354241, 'sys': {'type': 1, 'id': 8224, 'country': 'AR', 'sunrise': 1678355254, 'sunset': 1678400453}, 'timezone': -10800, 'id': 3435910, 'name': 'Buenos Aires', 'cod': 200}\n",
      "75.54\n",
      "---------------\n",
      "Moscow\n",
      "{'coord': {'lon': 37.6156, 'lat': 55.7522}, 'weather': [{'id': 804, 'main': 'Clouds', 'description': 'overcast clouds', 'icon': '04d'}], 'base': 'stations', 'main': {'temp': 30.51, 'feels_like': 20.91, 'temp_min': 30.15, 'temp_max': 31.55, 'pressure': 999, 'humidity': 85, 'sea_level': 999, 'grnd_level': 981}, 'visibility': 10000, 'wind': {'speed': 11.99, 'deg': 220, 'gust': 23.87}, 'clouds': {'all': 100}, 'dt': 1678354503, 'sys': {'type': 2, 'id': 47754, 'country': 'RU', 'sunrise': 1678334512, 'sunset': 1678375128}, 'timezone': 10800, 'id': 524901, 'name': 'Moscow', 'cod': 200}\n",
      "30.51\n",
      "---------------\n",
      "Nairobi\n",
      "{'coord': {'lon': 36.8167, 'lat': -1.2833}, 'weather': [{'id': 801, 'main': 'Clouds', 'description': 'few clouds', 'icon': '02d'}], 'base': 'stations', 'main': {'temp': 80.94, 'feels_like': 79.5, 'temp_min': 80.47, 'temp_max': 82.96, 'pressure': 1022, 'humidity': 26}, 'visibility': 10000, 'wind': {'speed': 10.36, 'deg': 60}, 'clouds': {'all': 20}, 'dt': 1678354098, 'sys': {'type': 1, 'id': 2558, 'country': 'KE', 'sunrise': 1678333186, 'sunset': 1678376837}, 'timezone': 10800, 'id': 184745, 'name': 'Nairobi', 'cod': 200}\n",
      "80.94\n",
      "---------------\n",
      "New York,33.73,67,75,14.97,40.7143,-74.006\n",
      "London,39.58,96,100,12.66,51.5085,-0.1257\n",
      "Paris,53.89,84,100,14.97,48.8534,2.3488\n",
      "Zurich,51.8,68,20,16.11,47.3667,8.55\n",
      "Cairo,74.16,21,0,3.44,30.0626,31.2497\n",
      "Buenos Aires,75.54,81,0,8.05,-34.6132,-58.3772\n",
      "Moscow,30.51,85,100,11.99,55.7522,37.6156\n",
      "Nairobi,80.94,26,20,10.36,-1.2833,36.8167\n"
     ]
    }
   ],
   "source": [
    "# create a new output_full file that contains all the data features\n",
    "output_full_file = \"output_full.csv\"\n",
    "with open(output_full_file, \"w\") as csvfile:\n",
    "    # Initialize the csv.writer\n",
    "    csvwriter = csv.writer(csvfile, delimiter=\",\")\n",
    "\n",
    "    # Read CSV\n",
    "    with open(csvpath) as csvfile:\n",
    "\n",
    "        # Read the file specifying commas as delimiters\n",
    "        csvreader = csv.reader(csvfile)\n",
    "\n",
    "        # Iterate through each row of the CSV\n",
    "        for row in csvreader:\n",
    "\n",
    "            # Retrieve the city name from the CSV file\n",
    "            city = row[0]\n",
    "\n",
    "            # Print each row of the csv\n",
    "            print(city)\n",
    "\n",
    "            # Build the query URL for the OpenWeatherMap Service\n",
    "            query_url = url + \"q=\" + city + \"&appid=\" + api_key + \"&units=Imperial\"\n",
    "\n",
    "            # Make a request to the OpenWeatherMap Service\n",
    "            weather_response = req.get(query_url)\n",
    "            weather_json = weather_response.json()\n",
    "\n",
    "            # Print the JSON for each\n",
    "            print(weather_json)\n",
    "\n",
    "            # Extract the temperature for each city\n",
    "            temperature = weather_json[\"main\"][\"temp\"]\n",
    "            humidity = weather_json[\"main\"][\"humidity\"]\n",
    "            cloudiness = weather_json[\"clouds\"][\"all\"]\n",
    "            wind_speed = weather_json[\"wind\"][\"speed\"]\n",
    "            latitude = weather_json[\"coord\"][\"lat\"]\n",
    "            longitude = weather_json[\"coord\"][\"lon\"]\n",
    "\n",
    "            # Print the Temperatures\n",
    "            print(temperature)\n",
    "\n",
    "            # Draw a separating line\n",
    "            print(\"---------------\")\n",
    "\n",
    "            # Write the contents for each to the output CSV\n",
    "            csvwriter.writerow([city, temperature, humidity, cloudiness, wind_speed, latitude, longitude])\n",
    "\n",
    "# make the output_full file readable\n",
    "!cat output_full.csv\n"
   ]
  },
  {
   "cell_type": "code",
   "execution_count": 41,
   "metadata": {},
   "outputs": [
    {
     "name": "stdout",
     "output_type": "stream",
     "text": [
      "City,Temperature (F),Humidity,Cloudiness,Wind Speed,Latitude,Longitude\n",
      "New York,33.73,67,75,14.97,40.7143,-74.006\n",
      "London,39.58,96,100,12.66,51.5085,-0.1257\n",
      "Paris,53.89,84,100,14.97,48.8534,2.3488\n",
      "Zurich,51.8,68,20,16.11,47.3667,8.55\n",
      "Cairo,74.16,21,0,3.44,30.0626,31.2497\n",
      "Buenos Aires,75.54,81,0,8.05,-34.6132,-58.3772\n",
      "Moscow,30.51,85,100,11.99,55.7522,37.6156\n",
      "Nairobi,80.94,26,20,10.36,-1.2833,36.8167\n"
     ]
    }
   ],
   "source": [
    "# add a row header to the output_full file\n",
    "import pandas as pd\n",
    "df = pd.read_csv(\"output_full.csv\", header=None)\n",
    "df.columns = [\"City\", \"Temperature (F)\", \"Humidity\", \"Cloudiness\", \"Wind Speed\", \"Latitude\", \"Longitude\"]\n",
    "df.to_csv(\"output_full.csv\", index=False)\n",
    "\n",
    "# make the output_full file readable\n",
    "!cat output_full.csv"
   ]
  },
  {
   "cell_type": "code",
   "execution_count": 44,
   "metadata": {},
   "outputs": [
    {
     "name": "stdout",
     "output_type": "stream",
     "text": [
      "City,Temperature (F),Humidity,Cloudiness,Wind Speed,Latitude,Longitude,Temperature (C)\n",
      "New York,33.73,67,75,14.97,40.7143,-74.006,0.96\n",
      "London,39.58,96,100,12.66,51.5085,-0.1257,4.21\n",
      "Paris,53.89,84,100,14.97,48.8534,2.3488,12.16\n",
      "Zurich,51.8,68,20,16.11,47.3667,8.55,11.0\n",
      "Cairo,74.16,21,0,3.44,30.0626,31.2497,23.42\n",
      "Buenos Aires,75.54,81,0,8.05,-34.6132,-58.3772,24.19\n",
      "Moscow,30.51,85,100,11.99,55.7522,37.6156,-0.83\n",
      "Nairobi,80.94,26,20,10.36,-1.2833,36.8167,27.19\n"
     ]
    }
   ],
   "source": [
    "# create a fucntion to convert the temperature from Fahrenheit to Celsius and add a new column next to temperature (F) for Temperature (C) and use 2 decimal places\n",
    "def fahrenheit_to_celsius(fahrenheit):\n",
    "    return round((fahrenheit - 32) * 5/9, 2)\n",
    "\n",
    "df[\"Temperature (C)\"] = df[\"Temperature (F)\"].apply(fahrenheit_to_celsius)\n",
    "df.to_csv(\"output_full.csv\", index=False)\n",
    "\n",
    "# make the output_full file readable\n",
    "!cat output_full.csv\n",
    "\n",
    "\n"
   ]
  },
  {
   "cell_type": "code",
   "execution_count": 46,
   "metadata": {},
   "outputs": [
    {
     "name": "stdout",
     "output_type": "stream",
     "text": [
      "Collecting citipy\n",
      "  Downloading citipy-0.0.5.tar.gz (557 kB)\n",
      "\u001b[2K     \u001b[90m━━━━━━━━━━━━━━━━━━━━━━━━━━━━━━━━━━━━━━━\u001b[0m \u001b[32m557.7/557.7 kB\u001b[0m \u001b[31m1.2 MB/s\u001b[0m eta \u001b[36m0:00:00\u001b[0ma \u001b[36m0:00:01\u001b[0m\n",
      "\u001b[?25h  Preparing metadata (setup.py) ... \u001b[?25ldone\n",
      "\u001b[?25hCollecting kdtree>=0.12\n",
      "  Downloading kdtree-0.16-py2.py3-none-any.whl (7.7 kB)\n",
      "Building wheels for collected packages: citipy\n",
      "  Building wheel for citipy (setup.py) ... \u001b[?25ldone\n",
      "\u001b[?25h  Created wheel for citipy: filename=citipy-0.0.5-py3-none-any.whl size=559686 sha256=9b143e203839ffa6ec47d87743d72d415be5f3a4e2e73f9e3b63746f3839b847\n",
      "  Stored in directory: /Users/ops/Library/Caches/pip/wheels/7d/3b/17/beb4cd09d241b4467d6b2316bc6483daaf1150d049a8659b8c\n",
      "Successfully built citipy\n",
      "Installing collected packages: kdtree, citipy\n",
      "Successfully installed citipy-0.0.5 kdtree-0.16\n"
     ]
    }
   ],
   "source": [
    "# install the citipy package\n",
    "!pip install citipy"
   ]
  },
  {
   "cell_type": "code",
   "execution_count": 53,
   "metadata": {},
   "outputs": [
    {
     "name": "stdout",
     "output_type": "stream",
     "text": [
      "City,Temperature (F),Humidity,Cloudiness,Wind Speed,Latitude,Longitude,Temperature (C),Nearest City\n",
      "New York,33.73,67,75,14.97,40.7143,-74.006,0.96,new york\n",
      "London,39.58,96,100,12.66,51.5085,-0.1257,4.21,london\n",
      "Paris,53.89,84,100,14.97,48.8534,2.3488,12.16,paris\n",
      "Zurich,51.8,68,20,16.11,47.3667,8.55,11.0,zurich\n",
      "Cairo,74.16,21,0,3.44,30.0626,31.2497,23.42,cairo\n",
      "Buenos Aires,75.54,81,0,8.05,-34.6132,-58.3772,24.19,san vicente\n",
      "Moscow,30.51,85,100,11.99,55.7522,37.6156,-0.83,moscow\n",
      "Nairobi,80.94,26,20,10.36,-1.2833,36.8167,27.19,nairobi\n",
      "New York\n",
      "{'coord': {'lon': -74.006, 'lat': 40.7143}, 'weather': [{'id': 803, 'main': 'Clouds', 'description': 'broken clouds', 'icon': '04n'}], 'base': 'stations', 'main': {'temp': 33.73, 'feels_like': 23.81, 'temp_min': 31.24, 'temp_max': 35.22, 'pressure': 1021, 'humidity': 67}, 'visibility': 10000, 'wind': {'speed': 14.97, 'deg': 330}, 'clouds': {'all': 75}, 'dt': 1678355187, 'sys': {'type': 2, 'id': 2039034, 'country': 'US', 'sunrise': 1678360680, 'sunset': 1678402529}, 'timezone': -18000, 'id': 5128581, 'name': 'New York', 'cod': 200}\n",
      "33.73\n",
      "---------------\n",
      "London\n",
      "{'coord': {'lon': -0.1257, 'lat': 51.5085}, 'weather': [{'id': 311, 'main': 'Drizzle', 'description': 'drizzle rain', 'icon': '09d'}, {'id': 500, 'main': 'Rain', 'description': 'light rain', 'icon': '10d'}], 'base': 'stations', 'main': {'temp': 39.87, 'feels_like': 32.43, 'temp_min': 37.98, 'temp_max': 42.37, 'pressure': 992, 'humidity': 96}, 'visibility': 3200, 'wind': {'speed': 12.66, 'deg': 100}, 'rain': {'1h': 0.12}, 'clouds': {'all': 100}, 'dt': 1678355204, 'sys': {'type': 2, 'id': 2075535, 'country': 'GB', 'sunrise': 1678343352, 'sunset': 1678384400}, 'timezone': 0, 'id': 2643743, 'name': 'London', 'cod': 200}\n",
      "39.87\n",
      "---------------\n",
      "Paris\n",
      "{'coord': {'lon': 2.3488, 'lat': 48.8534}, 'weather': [{'id': 804, 'main': 'Clouds', 'description': 'overcast clouds', 'icon': '04d'}], 'base': 'stations', 'main': {'temp': 54.21, 'feels_like': 53.38, 'temp_min': 53.01, 'temp_max': 55.26, 'pressure': 1000, 'humidity': 86}, 'visibility': 10000, 'wind': {'speed': 14.97, 'deg': 210}, 'clouds': {'all': 100}, 'dt': 1678355404, 'sys': {'type': 2, 'id': 2041230, 'country': 'FR', 'sunrise': 1678342651, 'sunset': 1678383914}, 'timezone': 3600, 'id': 2988507, 'name': 'Paris', 'cod': 200}\n",
      "54.21\n",
      "---------------\n",
      "Zurich\n",
      "{'coord': {'lon': 8.55, 'lat': 47.3667}, 'weather': [{'id': 801, 'main': 'Clouds', 'description': 'few clouds', 'icon': '02d'}], 'base': 'stations', 'main': {'temp': 52.92, 'feels_like': 50.95, 'temp_min': 50.04, 'temp_max': 56.35, 'pressure': 1006, 'humidity': 65}, 'visibility': 10000, 'wind': {'speed': 16.11, 'deg': 240}, 'clouds': {'all': 20}, 'dt': 1678355425, 'sys': {'type': 2, 'id': 2019255, 'country': 'CH', 'sunrise': 1678341108, 'sunset': 1678382480}, 'timezone': 3600, 'id': 2657896, 'name': 'Zurich', 'cod': 200}\n",
      "52.92\n",
      "---------------\n",
      "Cairo\n",
      "{'coord': {'lon': 31.2497, 'lat': 30.0626}, 'weather': [{'id': 800, 'main': 'Clear', 'description': 'clear sky', 'icon': '01d'}], 'base': 'stations', 'main': {'temp': 74.16, 'feels_like': 72.27, 'temp_min': 74.16, 'temp_max': 74.16, 'pressure': 1017, 'humidity': 21}, 'visibility': 10000, 'wind': {'speed': 3.44, 'deg': 350}, 'clouds': {'all': 0}, 'dt': 1678355584, 'sys': {'type': 1, 'id': 2514, 'country': 'EG', 'sunrise': 1678335164, 'sunset': 1678377531}, 'timezone': 7200, 'id': 360630, 'name': 'Cairo', 'cod': 200}\n",
      "74.16\n",
      "---------------\n",
      "Buenos Aires\n",
      "{'coord': {'lon': -58.3772, 'lat': -34.6132}, 'weather': [{'id': 800, 'main': 'Clear', 'description': 'clear sky', 'icon': '01d'}], 'base': 'stations', 'main': {'temp': 75.54, 'feels_like': 76.66, 'temp_min': 69.69, 'temp_max': 76.95, 'pressure': 1013, 'humidity': 82}, 'visibility': 10000, 'wind': {'speed': 8.05, 'deg': 90}, 'clouds': {'all': 0}, 'dt': 1678355580, 'sys': {'type': 1, 'id': 8224, 'country': 'AR', 'sunrise': 1678355254, 'sunset': 1678400453}, 'timezone': -10800, 'id': 3435910, 'name': 'Buenos Aires', 'cod': 200}\n",
      "75.54\n",
      "---------------\n",
      "Moscow\n",
      "{'coord': {'lon': 37.6156, 'lat': 55.7522}, 'weather': [{'id': 804, 'main': 'Clouds', 'description': 'overcast clouds', 'icon': '04d'}], 'base': 'stations', 'main': {'temp': 30.69, 'feels_like': 21.13, 'temp_min': 30.15, 'temp_max': 31.55, 'pressure': 999, 'humidity': 85, 'sea_level': 999, 'grnd_level': 981}, 'visibility': 10000, 'wind': {'speed': 11.99, 'deg': 220, 'gust': 23.87}, 'clouds': {'all': 100}, 'dt': 1678355360, 'sys': {'type': 2, 'id': 2000314, 'country': 'RU', 'sunrise': 1678334512, 'sunset': 1678375128}, 'timezone': 10800, 'id': 524901, 'name': 'Moscow', 'cod': 200}\n",
      "30.69\n",
      "---------------\n",
      "Nairobi\n",
      "{'coord': {'lon': 36.8167, 'lat': -1.2833}, 'weather': [{'id': 801, 'main': 'Clouds', 'description': 'few clouds', 'icon': '02d'}], 'base': 'stations', 'main': {'temp': 80.47, 'feels_like': 79.21, 'temp_min': 80.47, 'temp_max': 81.72, 'pressure': 1022, 'humidity': 26}, 'visibility': 10000, 'wind': {'speed': 10.36, 'deg': 60}, 'clouds': {'all': 20}, 'dt': 1678355602, 'sys': {'type': 1, 'id': 2558, 'country': 'KE', 'sunrise': 1678333186, 'sunset': 1678376837}, 'timezone': 10800, 'id': 184745, 'name': 'Nairobi', 'cod': 200}\n",
      "80.47\n",
      "---------------\n",
      "New York,33.73,67,75,14.97,40.7143,-74.006\n",
      "London,39.87,96,100,12.66,51.5085,-0.1257\n",
      "Paris,54.21,86,100,14.97,48.8534,2.3488\n",
      "Zurich,52.92,65,20,16.11,47.3667,8.55\n",
      "Cairo,74.16,21,0,3.44,30.0626,31.2497\n",
      "Buenos Aires,75.54,82,0,8.05,-34.6132,-58.3772\n",
      "Moscow,30.69,85,100,11.99,55.7522,37.6156\n",
      "Nairobi,80.47,26,20,10.36,-1.2833,36.8167\n"
     ]
    }
   ],
   "source": [
    "# Citypy library to find the nearest city to the coordinates of the cities in the csv file \n",
    "from citipy import citipy\n",
    "\n",
    "# create a list to store the nearest cities\n",
    "nearest_cities = []\n",
    "\n",
    "# iterate through the cities in the csv file\n",
    "for index, row in df.iterrows():\n",
    "    city = citipy.nearest_city(row[\"Latitude\"], row[\"Longitude\"])\n",
    "    nearest_cities.append(city.city_name)\n",
    "\n",
    "# add the nearest cities to the dataframe\n",
    "df[\"Nearest City\"] = nearest_cities\n",
    "df.to_csv(\"output_full.csv\", index=False)\n",
    "\n",
    "# make the output_full file readable\n",
    "!cat output_full.csv\n",
    "\n",
    "# create a new output_full file that contains all the data features\n",
    "output_full_file = \"output_full.csv\"\n",
    "with open(output_full_file, \"w\") as csvfile:\n",
    "    # Initialize the csv.writer\n",
    "    csvwriter = csv.writer(csvfile, delimiter=\",\")\n",
    "\n",
    "    # Read CSV\n",
    "    with open(csvpath) as csvfile:\n",
    "\n",
    "        # Read the file specifying commas as delimiters\n",
    "        csvreader = csv.reader(csvfile)\n",
    "\n",
    "        # Iterate through each row of the CSV\n",
    "        for row in csvreader:\n",
    "\n",
    "            # Retrieve the city name from the CSV file\n",
    "            city = row[0]\n",
    "\n",
    "            # Print each row of the csv\n",
    "            print(city)\n",
    "\n",
    "            # Build the query URL for the OpenWeatherMap Service\n",
    "            query_url = url + \"q=\" + city + \"&appid=\" + api_key + \"&units=Imperial\"\n",
    "\n",
    "            # Make a request to the OpenWeatherMap Service\n",
    "            weather_response = req.get(query_url)\n",
    "            weather_json = weather_response.json()\n",
    "\n",
    "            # Print the JSON for each\n",
    "            print(weather_json)\n",
    "\n",
    "            # Extract the temperature for each city\n",
    "            temperature = weather_json[\"main\"][\"temp\"]\n",
    "            humidity = weather_json[\"main\"][\"humidity\"]\n",
    "            cloudiness = weather_json[\"clouds\"][\"all\"]\n",
    "            wind_speed = weather_json[\"wind\"][\"speed\"]\n",
    "            latitude = weather_json[\"coord\"][\"lat\"]\n",
    "            longitude = weather_json[\"coord\"][\"lon\"]\n",
    "\n",
    "            # Print the Temperatures\n",
    "            print(temperature)\n",
    "\n",
    "            # Draw a separating line\n",
    "            print(\"---------------\")\n",
    "\n",
    "            # Write the contents for each to the output CSV\n",
    "            csvwriter.writerow([city, temperature, humidity, cloudiness, wind_speed, latitude, longitude])\n",
    "\n",
    "# make the output_full file readable\n",
    "!cat output_full.csv\n",
    "\n"
   ]
  },
  {
   "cell_type": "code",
   "execution_count": 48,
   "metadata": {},
   "outputs": [
    {
     "name": "stdout",
     "output_type": "stream",
     "text": [
      "Collecting seaborn\n",
      "  Downloading seaborn-0.12.2-py3-none-any.whl (293 kB)\n",
      "\u001b[2K     \u001b[90m━━━━━━━━━━━━━━━━━━━━━━━━━━━━━━━━━━━━━━━\u001b[0m \u001b[32m293.3/293.3 kB\u001b[0m \u001b[31m3.8 MB/s\u001b[0m eta \u001b[36m0:00:00\u001b[0m00:01\u001b[0m00:01\u001b[0m\n",
      "\u001b[?25hRequirement already satisfied: pandas>=0.25 in /Users/ops/opt/anaconda3/envs/sklearn-env/lib/python3.10/site-packages (from seaborn) (1.5.1)\n",
      "Requirement already satisfied: numpy!=1.24.0,>=1.17 in /Users/ops/opt/anaconda3/envs/sklearn-env/lib/python3.10/site-packages (from seaborn) (1.23.4)\n",
      "Collecting matplotlib!=3.6.1,>=3.1\n",
      "  Downloading matplotlib-3.7.1-cp310-cp310-macosx_10_12_x86_64.whl (7.4 MB)\n",
      "\u001b[2K     \u001b[90m━━━━━━━━━━━━━━━━━━━━━━━━━━━━━━━━━━━━━━━━\u001b[0m \u001b[32m7.4/7.4 MB\u001b[0m \u001b[31m25.1 MB/s\u001b[0m eta \u001b[36m0:00:00\u001b[0m00:01\u001b[0m00:01\u001b[0m\n",
      "\u001b[?25hRequirement already satisfied: packaging>=20.0 in /Users/ops/opt/anaconda3/envs/sklearn-env/lib/python3.10/site-packages (from matplotlib!=3.6.1,>=3.1->seaborn) (21.3)\n",
      "Requirement already satisfied: kiwisolver>=1.0.1 in /Users/ops/opt/anaconda3/envs/sklearn-env/lib/python3.10/site-packages (from matplotlib!=3.6.1,>=3.1->seaborn) (1.4.4)\n",
      "Requirement already satisfied: cycler>=0.10 in /Users/ops/opt/anaconda3/envs/sklearn-env/lib/python3.10/site-packages (from matplotlib!=3.6.1,>=3.1->seaborn) (0.11.0)\n",
      "Requirement already satisfied: contourpy>=1.0.1 in /Users/ops/opt/anaconda3/envs/sklearn-env/lib/python3.10/site-packages (from matplotlib!=3.6.1,>=3.1->seaborn) (1.0.5)\n",
      "Requirement already satisfied: python-dateutil>=2.7 in /Users/ops/opt/anaconda3/envs/sklearn-env/lib/python3.10/site-packages (from matplotlib!=3.6.1,>=3.1->seaborn) (2.8.2)\n",
      "Requirement already satisfied: fonttools>=4.22.0 in /Users/ops/opt/anaconda3/envs/sklearn-env/lib/python3.10/site-packages (from matplotlib!=3.6.1,>=3.1->seaborn) (4.38.0)\n",
      "Requirement already satisfied: pyparsing>=2.3.1 in /Users/ops/opt/anaconda3/envs/sklearn-env/lib/python3.10/site-packages (from matplotlib!=3.6.1,>=3.1->seaborn) (3.0.9)\n",
      "Requirement already satisfied: pillow>=6.2.0 in /Users/ops/opt/anaconda3/envs/sklearn-env/lib/python3.10/site-packages (from matplotlib!=3.6.1,>=3.1->seaborn) (9.2.0)\n",
      "Requirement already satisfied: pytz>=2020.1 in /Users/ops/opt/anaconda3/envs/sklearn-env/lib/python3.10/site-packages (from pandas>=0.25->seaborn) (2022.5)\n",
      "Requirement already satisfied: six>=1.5 in /Users/ops/opt/anaconda3/envs/sklearn-env/lib/python3.10/site-packages (from python-dateutil>=2.7->matplotlib!=3.6.1,>=3.1->seaborn) (1.16.0)\n",
      "Installing collected packages: matplotlib, seaborn\n",
      "  Attempting uninstall: matplotlib\n",
      "    Found existing installation: matplotlib 3.6.1\n",
      "    Uninstalling matplotlib-3.6.1:\n",
      "      Successfully uninstalled matplotlib-3.6.1\n",
      "Successfully installed matplotlib-3.7.1 seaborn-0.12.2\n"
     ]
    }
   ],
   "source": [
    "# install seaborn\n",
    "!pip install seaborn"
   ]
  },
  {
   "cell_type": "code",
   "execution_count": 52,
   "metadata": {},
   "outputs": [
    {
     "data": {
      "image/png": "[encoded data removed]",
      "text/plain": [
       "<Figure size 500x500 with 1 Axes>"
      ]
     },
     "metadata": {},
     "output_type": "display_data"
    }
   ],
   "source": [
    "# create a scatter plot of temperature (F) vs. latitude\n",
    "import seaborn as sns   \n",
    "sns.lmplot(x=\"Latitude\", y=\"Temperature (F)\", data=df, fit_reg=False)\n",
    "plt.title(\"Temperature (F) vs. Latitude\")\n",
    "plt.show()\n",
    "\n"
   ]
  },
  {
   "cell_type": "code",
   "execution_count": null,
   "metadata": {},
   "outputs": [],
   "source": []
  }
 ],
 "metadata": {
  "kernelspec": {
   "display_name": "sklearn-env",
   "language": "python",
   "name": "python3"
  },
  "language_info": {
   "codemirror_mode": {
    "name": "ipython",
    "version": 3
   },
   "file_extension": ".py",
   "mimetype": "text/x-python",
   "name": "python",
   "nbconvert_exporter": "python",
   "pygments_lexer": "ipython3",
   "version": "3.10.6"
  },
  "orig_nbformat": 4
 },
 "nbformat": 4,
 "nbformat_minor": 2
}
