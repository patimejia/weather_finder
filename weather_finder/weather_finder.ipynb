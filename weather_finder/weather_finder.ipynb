{
 "cells": [
  {
   "cell_type": "code",
   "execution_count": 6,
   "metadata": {},
   "outputs": [
    {
     "name": "stdout",
     "output_type": "stream",
     "text": [
      "New York\n",
      "London\n",
      "Paris\n",
      "Zurich\n",
      "Cairo\n",
      "Buenos Aires\n",
      "Moscow\n",
      "Nairobi       7 cities.csv\n"
     ]
    }
   ],
   "source": [
    "# show portion content of  the file\n",
    "!head -n 10 cities.csv\n",
    "\n",
    "# show and print notification of file content length\n",
    "!wc -l cities.csv\n",
    "\n",
    "# show and print notification of file content length\n",
    "\n",
    "\n"
   ]
  },
  {
   "cell_type": "code",
   "execution_count": 8,
   "metadata": {},
   "outputs": [
    {
     "name": "stdout",
     "output_type": "stream",
     "text": [
      "Collecting pytest\n",
      "  Downloading pytest-7.2.2-py3-none-any.whl (317 kB)\n",
      "\u001b[2K     \u001b[90m━━━━━━━━━━━━━━━━━━━━━━━━━━━━━━━━━━━━━━━\u001b[0m \u001b[32m317.2/317.2 kB\u001b[0m \u001b[31m2.6 MB/s\u001b[0m eta \u001b[36m0:00:00\u001b[0ma \u001b[36m0:00:01\u001b[0m\n",
      "\u001b[?25hCollecting tomli>=1.0.0\n",
      "  Using cached tomli-2.0.1-py3-none-any.whl (12 kB)\n",
      "Collecting iniconfig\n",
      "  Downloading iniconfig-2.0.0-py3-none-any.whl (5.9 kB)\n",
      "Requirement already satisfied: packaging in /Users/ops/opt/anaconda3/envs/sklearn-env/lib/python3.10/site-packages (from pytest) (21.3)\n",
      "Collecting pluggy<2.0,>=0.12\n",
      "  Downloading pluggy-1.0.0-py2.py3-none-any.whl (13 kB)\n",
      "Requirement already satisfied: attrs>=19.2.0 in /Users/ops/opt/anaconda3/envs/sklearn-env/lib/python3.10/site-packages (from pytest) (22.1.0)\n",
      "Collecting exceptiongroup>=1.0.0rc8\n",
      "  Downloading exceptiongroup-1.1.0-py3-none-any.whl (14 kB)\n",
      "Requirement already satisfied: pyparsing!=3.0.5,>=2.0.2 in /Users/ops/opt/anaconda3/envs/sklearn-env/lib/python3.10/site-packages (from packaging->pytest) (3.0.9)\n",
      "Installing collected packages: tomli, pluggy, iniconfig, exceptiongroup, pytest\n",
      "Successfully installed exceptiongroup-1.1.0 iniconfig-2.0.0 pluggy-1.0.0 pytest-7.2.2 tomli-2.0.1\n"
     ]
    }
   ],
   "source": [
    "\n"
   ]
  },
  {
   "cell_type": "code",
   "execution_count": 2,
   "metadata": {},
   "outputs": [
    {
     "name": "stdout",
     "output_type": "stream",
     "text": [
      "Collecting requests\n",
      "  Downloading requests-2.28.2-py3-none-any.whl (62 kB)\n",
      "\u001b[2K     \u001b[90m━━━━━━━━━━━━━━━━━━━━━━━━━━━━━━━━━━━━━━━\u001b[0m \u001b[32m62.8/62.8 kB\u001b[0m \u001b[31m564.8 kB/s\u001b[0m eta \u001b[36m0:00:00\u001b[0ma \u001b[36m0:00:01\u001b[0m\n",
      "\u001b[?25hRequirement already satisfied: certifi>=2017.4.17 in /Users/ops/opt/anaconda3/envs/sklearn-env/lib/python3.10/site-packages (from requests) (2022.9.24)\n",
      "Collecting charset-normalizer<4,>=2\n",
      "  Downloading charset_normalizer-3.1.0-cp310-cp310-macosx_10_9_x86_64.whl (124 kB)\n",
      "\u001b[2K     \u001b[90m━━━━━━━━━━━━━━━━━━━━━━━━━━━━━━━━━━━━━━━\u001b[0m \u001b[32m124.8/124.8 kB\u001b[0m \u001b[31m3.1 MB/s\u001b[0m eta \u001b[36m0:00:00\u001b[0m00:01\u001b[0m\n",
      "\u001b[?25hCollecting idna<4,>=2.5\n",
      "  Using cached idna-3.4-py3-none-any.whl (61 kB)\n",
      "Collecting urllib3<1.27,>=1.21.1\n",
      "  Downloading urllib3-1.26.14-py2.py3-none-any.whl (140 kB)\n",
      "\u001b[2K     \u001b[90m━━━━━━━━━━━━━━━━━━━━━━━━━━━━━━━━━━━━━\u001b[0m \u001b[32m140.6/140.6 kB\u001b[0m \u001b[31m392.8 kB/s\u001b[0m eta \u001b[36m0:00:00\u001b[0ma \u001b[36m0:00:01\u001b[0m\n",
      "\u001b[?25hInstalling collected packages: urllib3, idna, charset-normalizer, requests\n",
      "Successfully installed charset-normalizer-3.1.0 idna-3.4 requests-2.28.2 urllib3-1.26.14\n"
     ]
    }
   ],
   "source": [
    "!pip install requests"
   ]
  },
  {
   "cell_type": "code",
   "execution_count": 3,
   "metadata": {},
   "outputs": [
    {
     "ename": "FileNotFoundError",
     "evalue": "[Errno 2] No such file or directory: '/assets/cities.csv'",
     "output_type": "error",
     "traceback": [
      "\u001b[0;31m---------------------------------------------------------------------------\u001b[0m",
      "\u001b[0;31mFileNotFoundError\u001b[0m                         Traceback (most recent call last)",
      "\u001b[1;32m/Users/ops/code/tutorials/notes/temperature_per_city_example.ipynb Cell 5\u001b[0m in \u001b[0;36m2\n\u001b[1;32m     <a href='vscode-notebook-cell:/Users/ops/code/tutorials/notes/temperature_per_city_example.ipynb#W3sZmlsZQ%3D%3D?line=18'>19</a>\u001b[0m csvwriter \u001b[39m=\u001b[39m csv\u001b[39m.\u001b[39mwriter(csvfile, delimiter\u001b[39m=\u001b[39m\u001b[39m\"\u001b[39m\u001b[39m,\u001b[39m\u001b[39m\"\u001b[39m)\n\u001b[1;32m     <a href='vscode-notebook-cell:/Users/ops/code/tutorials/notes/temperature_per_city_example.ipynb#W3sZmlsZQ%3D%3D?line=20'>21</a>\u001b[0m \u001b[39m# Read CSV\u001b[39;00m\n\u001b[0;32m---> <a href='vscode-notebook-cell:/Users/ops/code/tutorials/notes/temperature_per_city_example.ipynb#W3sZmlsZQ%3D%3D?line=21'>22</a>\u001b[0m \u001b[39mwith\u001b[39;00m \u001b[39mopen\u001b[39;49m(csvpath) \u001b[39mas\u001b[39;00m csvfile:\n\u001b[1;32m     <a href='vscode-notebook-cell:/Users/ops/code/tutorials/notes/temperature_per_city_example.ipynb#W3sZmlsZQ%3D%3D?line=22'>23</a>\u001b[0m \n\u001b[1;32m     <a href='vscode-notebook-cell:/Users/ops/code/tutorials/notes/temperature_per_city_example.ipynb#W3sZmlsZQ%3D%3D?line=23'>24</a>\u001b[0m     \u001b[39m# Read the file specifying commas as delimiters\u001b[39;00m\n\u001b[1;32m     <a href='vscode-notebook-cell:/Users/ops/code/tutorials/notes/temperature_per_city_example.ipynb#W3sZmlsZQ%3D%3D?line=24'>25</a>\u001b[0m     csvreader \u001b[39m=\u001b[39m csv\u001b[39m.\u001b[39mreader(csvfile)\n\u001b[1;32m     <a href='vscode-notebook-cell:/Users/ops/code/tutorials/notes/temperature_per_city_example.ipynb#W3sZmlsZQ%3D%3D?line=26'>27</a>\u001b[0m     \u001b[39m# Iterate through each row of the CSV\u001b[39;00m\n",
      "\u001b[0;31mFileNotFoundError\u001b[0m: [Errno 2] No such file or directory: '/assets/cities.csv'"
     ]
    }
   ],
   "source": [
    "# Dependencies\n",
    "import requests as req\n",
    "import json\n",
    "import csv\n",
    "\n",
    "# OpenWeather API Key\n",
    "api_key = \"417bfe8effcb6b9aa355a4de24d62458\"\n",
    "\n",
    "# Specify File Path\n",
    "csvpath = \"/assets/cities.csv\"\n",
    "\n",
    "# Build an endpoint URL to the OpenWeatherMap Service\n",
    "url = \"http://api.openweathermap.org/data/2.5/weather?\"\n",
    "\n",
    "# Open output file\n",
    "output_file = \"output.csv\"\n",
    "with open(output_file, \"w\") as csvfile:\n",
    "    # Initialize the csv.writer\n",
    "    csvwriter = csv.writer(csvfile, delimiter=\",\")\n",
    "\n",
    "    # Read CSV\n",
    "    with open(csvpath) as csvfile:\n",
    "\n",
    "        # Read the file specifying commas as delimiters\n",
    "        csvreader = csv.reader(csvfile)\n",
    "\n",
    "        # Iterate through each row of the CSV\n",
    "        for row in csvreader:\n",
    "\n",
    "            # Retrieve the city name from the CSV file\n",
    "            city = row[0]\n",
    "\n",
    "            # Print each row of the csv\n",
    "            print(city)\n",
    "\n",
    "            # Build the query URL for the OpenWeatherMap Service\n",
    "            query_url = url + \"q=\" + city + \"&appid=\" + api_key + \"&units=Imperial\"\n",
    "\n",
    "            # Make a request to the OpenWeatherMap Service\n",
    "            weather_response = req.get(query_url)\n",
    "            weather_json = weather_response.json()\n",
    "\n",
    "            # Print the JSON for each\n",
    "            print(weather_json)\n",
    "\n",
    "            # Extract the temperature for each city\n",
    "            temperature = weather_json[\"main\"][\"temp\"]\n",
    "\n",
    "            # Print the Temperatures\n",
    "            print(temperature)\n",
    "\n",
    "            # Draw a separating line\n",
    "            print(\"---------------\")\n",
    "\n",
    "            # Write the contents for each to the output CSV\n",
    "            csvwriter.writerow([city, temperature])"
   ]
  },
  {
   "cell_type": "code",
   "execution_count": null,
   "metadata": {},
   "outputs": [],
   "source": []
  }
 ],
 "metadata": {
  "kernelspec": {
   "display_name": "sklearn-env",
   "language": "python",
   "name": "python3"
  },
  "language_info": {
   "codemirror_mode": {
    "name": "ipython",
    "version": 3
   },
   "file_extension": ".py",
   "mimetype": "text/x-python",
   "name": "python",
   "nbconvert_exporter": "python",
   "pygments_lexer": "ipython3",
   "version": "3.10.6"
  },
  "orig_nbformat": 4
 },
 "nbformat": 4,
 "nbformat_minor": 2
}
